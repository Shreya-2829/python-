{
 "cells": [
  {
   "cell_type": "markdown",
   "id": "9462f98a-43cd-4931-9c9f-dda07d2c4c6a",
   "metadata": {},
   "source": [
    "# PATTERNS"
   ]
  },
  {
   "cell_type": "raw",
   "id": "d2cca6d5-4d91-4bbd-8326-b5078d683ea4",
   "metadata": {},
   "source": [
    "1.RIGHT ANGLE TRIANGLE PATTERN"
   ]
  },
  {
   "cell_type": "code",
   "execution_count": 8,
   "id": "a9bbc54e-3c53-440a-a732-873db7105864",
   "metadata": {},
   "outputs": [
    {
     "name": "stdout",
     "output_type": "stream",
     "text": [
      "* \n",
      "* * \n",
      "* * * \n",
      "* * * * \n",
      "* * * * * \n"
     ]
    }
   ],
   "source": [
    "for i in range(1,6):\n",
    "    print('* '*(i))"
   ]
  },
  {
   "cell_type": "raw",
   "id": "8e26cd5c-2656-467c-894b-42890de011e4",
   "metadata": {},
   "source": [
    "2.INVERTED RIGHT ANGLE TRIANGLE PATTERN"
   ]
  },
  {
   "cell_type": "code",
   "execution_count": 12,
   "id": "652ab579-6e37-4b5e-ab32-25dd2c476215",
   "metadata": {},
   "outputs": [
    {
     "name": "stdout",
     "output_type": "stream",
     "text": [
      "* * * * * \n",
      "* * * * \n",
      "* * * \n",
      "* * \n",
      "* \n"
     ]
    }
   ],
   "source": [
    "for i in range(5,0,-1):\n",
    "    print('* '*(i))"
   ]
  },
  {
   "cell_type": "markdown",
   "id": "93dcc606-c281-453c-9182-61ca7d9b92e3",
   "metadata": {},
   "source": [
    "3.PYRAMID PATTERN"
   ]
  },
  {
   "cell_type": "code",
   "execution_count": 19,
   "id": "f9d0d179-c85e-4fb6-9c89-e9b143d894d2",
   "metadata": {},
   "outputs": [
    {
     "name": "stdout",
     "output_type": "stream",
     "text": [
      "    * \n",
      "   * * \n",
      "  * * * \n",
      " * * * * \n",
      "* * * * * \n"
     ]
    }
   ],
   "source": [
    "n=5\n",
    "for i in range(1,n+1):\n",
    "    print(' '*(n-i)+'* '*(i))"
   ]
  },
  {
   "cell_type": "code",
   "execution_count": 25,
   "id": "ff51a54f-3a4d-4ac6-9972-e42236b1cb30",
   "metadata": {},
   "outputs": [
    {
     "name": "stdout",
     "output_type": "stream",
     "text": [
      "        * \n",
      "      * * * \n",
      "    * * * * * \n",
      "  * * * * * * * \n",
      "* * * * * * * * * \n"
     ]
    }
   ],
   "source": [
    "n=5\n",
    "for i in range(1,n+1):\n",
    "    print('  '*(n-i)+'* '*(2*i-1))"
   ]
  },
  {
   "cell_type": "raw",
   "id": "2f72b9db-6439-4513-9bfc-7ad71a6252d4",
   "metadata": {},
   "source": [
    "4.INVERTED PYRAMID PATTERN"
   ]
  },
  {
   "cell_type": "code",
   "execution_count": 31,
   "id": "3a0897e5-bd32-4ed3-86c3-c4830f7ed271",
   "metadata": {},
   "outputs": [
    {
     "name": "stdout",
     "output_type": "stream",
     "text": [
      "* * * * * \n",
      " * * * * \n",
      "  * * * \n",
      "   * * \n",
      "    * \n"
     ]
    }
   ],
   "source": [
    "n=5\n",
    "for i in range(n,0,-1):\n",
    "    print(' '*(n-i)+'* '*(i))"
   ]
  },
  {
   "cell_type": "code",
   "execution_count": 44,
   "id": "fbdc69f7-7193-45c5-9eaf-388fc9593cb1",
   "metadata": {},
   "outputs": [
    {
     "name": "stdout",
     "output_type": "stream",
     "text": [
      "*********\n",
      " *******\n",
      "  *****\n",
      "   ***\n",
      "    *\n"
     ]
    }
   ],
   "source": [
    "n=5\n",
    "for i in range(n,0,-1):\n",
    "    print(' '*(n-i)+'*'*(i*2-1))"
   ]
  },
  {
   "cell_type": "raw",
   "id": "c680e937-6141-4127-a821-32c571ab56cf",
   "metadata": {},
   "source": [
    "5. HALF DIAMOND"
   ]
  },
  {
   "cell_type": "code",
   "execution_count": 47,
   "id": "06d8a1ac-ba7d-4559-935d-2a6648d7e0e3",
   "metadata": {},
   "outputs": [
    {
     "name": "stdout",
     "output_type": "stream",
     "text": [
      "* \n",
      "* * \n",
      "* * * \n",
      "* * * * \n",
      "* * * * * \n",
      "* * * * \n",
      "* * * \n",
      "* * \n",
      "* \n"
     ]
    }
   ],
   "source": [
    "n=5\n",
    "for i in range(1,n+1):\n",
    "    print('* '*(i))\n",
    "for i in range(n-1,0,-1):\n",
    "    print('* '*(i))"
   ]
  },
  {
   "cell_type": "raw",
   "id": "1e93ed87-c3ac-4973-9127-1046ac98b4a0",
   "metadata": {},
   "source": [
    "6. HALLOW SQUARE PATTERN"
   ]
  },
  {
   "cell_type": "code",
   "execution_count": 52,
   "id": "1b28a0e9-f04e-407a-b1ac-1de8b501b384",
   "metadata": {},
   "outputs": [
    {
     "name": "stdout",
     "output_type": "stream",
     "text": [
      "*  *  *  *  *  \n",
      "*           *  \n",
      "*           *  \n",
      "*           *  \n",
      "*  *  *  *  *  \n"
     ]
    }
   ],
   "source": [
    "n=5\n",
    "for i in range(1,6):\n",
    "    for j in range(1,6):\n",
    "        if i==1 or i==n or j==1 or j==n:\n",
    "            print('* ',end=\" \")\n",
    "        else:\n",
    "            print('  ',end=\" \")\n",
    "    print()"
   ]
  },
  {
   "cell_type": "raw",
   "id": "38b59578-1e84-4ae9-a7cb-0b1627cfb70d",
   "metadata": {},
   "source": [
    "7. FULL SQUARE PATTERN"
   ]
  },
  {
   "cell_type": "code",
   "execution_count": 54,
   "id": "58268387-9f5b-422b-af8e-e894cd2d8680",
   "metadata": {},
   "outputs": [
    {
     "name": "stdout",
     "output_type": "stream",
     "text": [
      "* * * * * \n",
      "* * * * * \n",
      "* * * * * \n",
      "* * * * * \n",
      "* * * * * \n"
     ]
    }
   ],
   "source": [
    "n=5\n",
    "for i in range(1,6):\n",
    "    print('* '*(n))"
   ]
  },
  {
   "cell_type": "raw",
   "id": "0e4b0de5-dcc3-4a9a-9ea0-ed99eb5f88d9",
   "metadata": {},
   "source": [
    "8. RIGHT ANGLE TRIANGLE ( NUMBER PATTERN )"
   ]
  },
  {
   "cell_type": "code",
   "execution_count": 73,
   "id": "8826983e-e09f-4def-9a2e-c44b332aac35",
   "metadata": {},
   "outputs": [
    {
     "name": "stdout",
     "output_type": "stream",
     "text": [
      "1 2 3 4 5\n",
      "1 2 3 4\n",
      "1 2 3\n",
      "1 2\n",
      "1\n"
     ]
    }
   ],
   "source": [
    "for i in range(5,0,-1):\n",
    "    print(' '.join(str(x) for x in range(1,i+1)))"
   ]
  },
  {
   "cell_type": "raw",
   "id": "3f250e94-1d2e-47aa-91d3-fdabf0446204",
   "metadata": {},
   "source": [
    "10. FLOYDS TRIANGLE"
   ]
  },
  {
   "cell_type": "code",
   "execution_count": 86,
   "id": "024cbad8-30d3-4bfd-98f7-41af3973599e",
   "metadata": {},
   "outputs": [
    {
     "name": "stdout",
     "output_type": "stream",
     "text": [
      "\n",
      "1  \n",
      "2  3  \n",
      "4  5  6  \n",
      "7  8  9  10  \n",
      "11  12  13  14  15  \n"
     ]
    }
   ],
   "source": [
    "c=1\n",
    "for i in range(1,7):\n",
    "    for j in range(1,i):\n",
    "        print(c,end=\"  \")\n",
    "        c+=1\n",
    "    print()\n",
    "        "
   ]
  },
  {
   "cell_type": "code",
   "execution_count": 85,
   "id": "e4b0d167-2b31-4eb9-b525-8a57d74d29de",
   "metadata": {},
   "outputs": [
    {
     "name": "stdout",
     "output_type": "stream",
     "text": [
      "1  2  3  4  5  \n",
      "6  7  8  9  \n",
      "10  11  12  \n",
      "13  14  \n",
      "15  \n"
     ]
    }
   ],
   "source": [
    "c=1\n",
    "for i in range(5,0,-1):\n",
    "    for j in range(1,i+1):\n",
    "        print(c,end=\"  \")\n",
    "        c+=1\n",
    "    print()\n",
    "    "
   ]
  },
  {
   "cell_type": "raw",
   "id": "c920edb1-1d8e-4b93-8ed5-e21b5730ddcd",
   "metadata": {},
   "source": [
    "11. HALLOW TRIANGLE"
   ]
  },
  {
   "cell_type": "code",
   "execution_count": 119,
   "id": "6e30da09-8ee0-4681-a58c-3d310f338409",
   "metadata": {},
   "outputs": [
    {
     "name": "stdout",
     "output_type": "stream",
     "text": [
      "* \n",
      "* * \n",
      "*   * \n",
      "*     * \n",
      "*       * \n",
      "*         * \n",
      "*           * \n",
      "* * * * * * * * \n"
     ]
    }
   ],
   "source": [
    "n=8\n",
    "for i in range(1,n+1):\n",
    "    for j in range(1,i+1):\n",
    "        if j==1 or j==i  or j==n or i==1 or i==n:\n",
    "            print('*',end=' ')\n",
    "        elif j<i:\n",
    "            print(' ',end=' ')\n",
    "    print()"
   ]
  },
  {
   "cell_type": "raw",
   "id": "91a507cf-3538-4ac0-9dc3-5dd8b7135474",
   "metadata": {},
   "source": [
    "12. HALLOW PYRAMID PATTERN"
   ]
  },
  {
   "cell_type": "code",
   "execution_count": 133,
   "id": "fe0c529a-f5cc-48b0-9b63-6b3ad975bd15",
   "metadata": {},
   "outputs": [
    {
     "name": "stdout",
     "output_type": "stream",
     "text": [
      "     * \n",
      "    * * \n",
      "   *   * \n",
      "  *     * \n",
      " *       * \n",
      "* * * * * * \n"
     ]
    }
   ],
   "source": [
    "n=6\n",
    "for i in range(1,n+1):\n",
    "    print(' '*(n-i),end='')\n",
    "    for j in range(1,i+1):\n",
    "        if j==1 or j==i or j==n or i==1 or i==n:\n",
    "            print('*',end=' ')\n",
    "        else:\n",
    "            print(' ',end=' ')\n",
    "    print()\n",
    "        "
   ]
  },
  {
   "cell_type": "raw",
   "id": "c1426db5-9057-43ba-a50d-6de0a75bdcc2",
   "metadata": {},
   "source": [
    "13. DIAMOND PATTERN"
   ]
  },
  {
   "cell_type": "code",
   "execution_count": 14,
   "id": "8e6dbbe8-39c2-45c3-8832-55c2c0ad61f1",
   "metadata": {},
   "outputs": [
    {
     "name": "stdout",
     "output_type": "stream",
     "text": [
      "    * \n",
      "   * * \n",
      "  * * * \n",
      " * * * * \n",
      "* * * * * \n",
      " * * * * \n",
      "  * * * \n",
      "   * * \n",
      "    * \n"
     ]
    }
   ],
   "source": [
    "n=5\n",
    "for i in range(1,n+1):\n",
    "    print(' '*(n-i)+'* '*(i))\n",
    "for i in range(n-1,0,-1):\n",
    "    print(' '*(n-i)+'* '*(i))"
   ]
  },
  {
   "cell_type": "code",
   "execution_count": 17,
   "id": "8e0cdec1-fe88-46a1-ae63-ac4bd92caeb5",
   "metadata": {},
   "outputs": [
    {
     "name": "stdout",
     "output_type": "stream",
     "text": [
      "       *\n",
      "      ***\n",
      "     *****\n",
      "    *******\n",
      "   *********\n",
      "  ***********\n",
      " *************\n",
      "***************\n",
      " *************\n",
      "  ***********\n",
      "   *********\n",
      "    *******\n",
      "     *****\n",
      "      ***\n",
      "       *\n"
     ]
    }
   ],
   "source": [
    "n=8\n",
    "for i in range(1,n+1):\n",
    "    print(' '*(n-i)+'*'*(i*2-1))\n",
    "for i in range(n-1,0,-1):\n",
    "    print(' '*(n-i)+'*'*(i*2-1))"
   ]
  },
  {
   "cell_type": "raw",
   "id": "1f7298de-f07b-40fa-b54e-7fe0e89466e9",
   "metadata": {},
   "source": [
    "14. HALLOW DIAMOND PATTERN"
   ]
  },
  {
   "cell_type": "code",
   "execution_count": 35,
   "id": "febec262-81b5-42cc-bdaa-4b8bf09a814c",
   "metadata": {},
   "outputs": [
    {
     "name": "stdout",
     "output_type": "stream",
     "text": [
      "    * \n",
      "   * * \n",
      "  *   * \n",
      " *     * \n",
      "*       * \n",
      " *     * \n",
      "  *   * \n",
      "   * * \n",
      "    * \n"
     ]
    }
   ],
   "source": [
    "n=5\n",
    "for i in range(1,n+1):\n",
    "    print(' '*(n-i),end=\"\")\n",
    "    for j in range(1,i+1):\n",
    "        if i==1 or j==1 or i==j:\n",
    "            print('*',end=\" \")\n",
    "        else:\n",
    "            print(' ',end=\" \")\n",
    "    print()\n",
    "for i in range(n-1,0,-1):\n",
    "    print(' '*(n-i),end='')\n",
    "    for j in range(1,i+1):\n",
    "        if i==1 or j==1 or i==j:\n",
    "            print('*',end=\" \")\n",
    "        else:\n",
    "            print(' ',end=' ')\n",
    "    print()"
   ]
  },
  {
   "cell_type": "code",
   "execution_count": 36,
   "id": "a22ac5b3-71be-45c9-b32f-4c8790297dcc",
   "metadata": {},
   "outputs": [
    {
     "name": "stdout",
     "output_type": "stream",
     "text": [
      "    1 \n",
      "   2 2 \n",
      "  3   3 \n",
      " 4     4 \n",
      "5       5 \n",
      " 4     4 \n",
      "  3   3 \n",
      "   2 2 \n",
      "    1 \n"
     ]
    }
   ],
   "source": [
    "n=5\n",
    "for i in range(1,n+1):\n",
    "    print(' '*(n-i),end=\"\")\n",
    "    for j in range(1,i+1):\n",
    "        if i==1 or j==1 or i==j:\n",
    "            print(i,end=\" \")\n",
    "        else:\n",
    "            print(' ',end=\" \")\n",
    "    print()\n",
    "for i in range(n-1,0,-1):\n",
    "    print(' '*(n-i),end='')\n",
    "    for j in range(1,i+1):\n",
    "        if i==1 or j==1 or i==j:\n",
    "            print(i,end=\" \")\n",
    "        else:\n",
    "            print(' ',end=' ')\n",
    "    print()"
   ]
  },
  {
   "cell_type": "markdown",
   "id": "1b5ea9c7-784c-48c0-9dd6-00b76569785e",
   "metadata": {},
   "source": [
    "15. BUTTERFLY PATTERN"
   ]
  },
  {
   "cell_type": "code",
   "execution_count": 240,
   "id": "60738958-5e49-411e-a70e-8da12d24a5ab",
   "metadata": {},
   "outputs": [
    {
     "name": "stdout",
     "output_type": "stream",
     "text": [
      "*                 * \n",
      "* *             * * \n",
      "* * *         * * * \n",
      "* * * *     * * * * \n",
      "* * * * * * * * * * \n",
      "* * * * * * * * * * \n",
      "* * * *     * * * * \n",
      "* * *         * * * \n",
      "* *             * * \n",
      "*                 * \n"
     ]
    }
   ],
   "source": [
    "n=5\n",
    "for i in range(1,n+1):\n",
    "    print('* '*i,end=\"\")\n",
    "    print('  '*((n-i)*2),end=\"\")\n",
    "    print('* '*i,end=\"\")\n",
    "    print()\n",
    "for i in range(n,0,-1):\n",
    "    print('* '*i,end=\"\")\n",
    "    print('  '*((n-i)*2),end=\"\")\n",
    "    print('* '*i,end=\"\")\n",
    "    print()"
   ]
  },
  {
   "cell_type": "code",
   "execution_count": 71,
   "id": "6294f6a8-8299-42cc-b75f-12a6baacff95",
   "metadata": {},
   "outputs": [
    {
     "name": "stdout",
     "output_type": "stream",
     "text": [
      "*        *\n",
      "**      **\n",
      "***    ***\n",
      "****  ****\n",
      "**********\n",
      "**********\n",
      "****  ****\n",
      "***    ***\n",
      "**      **\n",
      "*        *\n"
     ]
    }
   ],
   "source": [
    "n=5\n",
    "for i in range(1,n+1):\n",
    "    print('*'*i,end=\"\")\n",
    "    print(' '*((n-i)*2),end=\"\")\n",
    "    print('*'*i,end=\"\")\n",
    "    print()\n",
    "for i in range(n,0,-1):\n",
    "    print('*'*i,end=\"\")\n",
    "    print(' '*((n-i)*2),end=\"\")\n",
    "    print('*'*i,end=\"\")\n",
    "    print()"
   ]
  },
  {
   "cell_type": "code",
   "execution_count": 230,
   "id": "b293b50e-adb7-49a0-aeb7-d75308079443",
   "metadata": {},
   "outputs": [
    {
     "name": "stdout",
     "output_type": "stream",
     "text": [
      "1               9 \n",
      "1 2           8 9 \n",
      "1 2 3       7 8 9 \n",
      "1 2 3 4   6 7 8 9 \n",
      "1 2 3 4 5 6 7 8 9 \n",
      "1 2 3 4   6 7 8 9 \n",
      "1 2 3       7 8 9 \n",
      "1 2           8 9 \n",
      "1               9 \n"
     ]
    }
   ],
   "source": [
    "n=5\n",
    "\n",
    "for i in range(1,n+1):\n",
    "    for j in range(1,i+1):\n",
    "        print(j,end=\" \")\n",
    "    for j in range(j+1,(n*2)-j):\n",
    "        print(' ',end=\" \")\n",
    "    for j in range(j+1,n*2):\n",
    "        print(j,end=\" \")\n",
    "    print()\n",
    "for i in range(n-1,0,-1):\n",
    "    for j in range(1,i+1):\n",
    "        print(j,end=\" \")\n",
    "    for j in range(j+1,(n*2)-j):\n",
    "        print(' ',end=\" \")\n",
    "    for j in range(j+1,n*2):\n",
    "        print(j,end=\" \")\n",
    "    print()"
   ]
  },
  {
   "cell_type": "code",
   "execution_count": 111,
   "id": "a9e1b9d6-feed-41a8-98fb-4ce313be4de2",
   "metadata": {},
   "outputs": [
    {
     "name": "stdout",
     "output_type": "stream",
     "text": [
      "        1\n",
      "      1 2\n",
      "    1 2 3\n",
      "  1 2 3 4\n",
      "1 2 3 4 5\n",
      "        * \n",
      "      * * \n",
      "    * * * \n",
      "  * * * * \n",
      "* * * * * \n"
     ]
    }
   ],
   "source": [
    "n=5\n",
    "for i in range(1,n+1):\n",
    "    print('  '*(n-i)+' '.join(str(x) for x in range(1,i+1)))\n",
    "\n",
    "for i in range(1,n+1):\n",
    "    print('  '*(n-i)+'* '*(i))"
   ]
  },
  {
   "cell_type": "raw",
   "id": "acd51d0f-f559-4ba9-9902-3c4a89eb4882",
   "metadata": {},
   "source": [
    "18. PASCAL'S TRIANGLE PATTERN"
   ]
  },
  {
   "cell_type": "code",
   "execution_count": 121,
   "id": "5102e010-a9a5-41d7-a598-ccbaa3a5635a",
   "metadata": {},
   "outputs": [
    {
     "name": "stdout",
     "output_type": "stream",
     "text": [
      "    1\n",
      "   121\n",
      "  12321\n",
      " 1234321\n",
      "123454321\n"
     ]
    }
   ],
   "source": [
    "n=5\n",
    "for i in range(1,n+1):\n",
    "    print(' '*(n-i)  +  ''.join(str(x) for x in range(1,i+1))  +  ''.join(str(u) for u in range(i-1,0,-1)))"
   ]
  },
  {
   "cell_type": "raw",
   "id": "78782257-90e4-41cc-8bd6-4d598506b65f",
   "metadata": {},
   "source": [
    "19. Z PATTERN"
   ]
  },
  {
   "cell_type": "code",
   "execution_count": 133,
   "id": "2e70249d-41d7-4d92-8816-3cb941645868",
   "metadata": {},
   "outputs": [
    {
     "name": "stdout",
     "output_type": "stream",
     "text": [
      "* * * * * \n",
      "      *   \n",
      "    *     \n",
      "  *       \n",
      "* * * * * \n"
     ]
    }
   ],
   "source": [
    "n=5\n",
    "for i in range(1,n+1):\n",
    "    for j in range(1,n+1):\n",
    "        if i==1  or i==n or i+j==n+1 :\n",
    "            print('*',end=\" \")\n",
    "        else:\n",
    "            print(' ',end=\" \")\n",
    "    print()"
   ]
  },
  {
   "cell_type": "raw",
   "id": "d719fa21-5721-4644-8b45-e9ab360d0859",
   "metadata": {},
   "source": [
    "20. LETTERS PATTERN"
   ]
  },
  {
   "cell_type": "code",
   "execution_count": 144,
   "id": "87fb96ab-fffd-4344-9669-89c57796f45f",
   "metadata": {},
   "outputs": [
    {
     "name": "stdout",
     "output_type": "stream",
     "text": [
      "A\n",
      "AB\n",
      "ABC\n",
      "ABCD\n",
      "ABCDE\n"
     ]
    }
   ],
   "source": [
    "n=5\n",
    "ch=65\n",
    "for i in range(0,n):\n",
    "    for j in range(0,i+1):\n",
    "        print(chr(ch+j),end=\"\")\n",
    "    print()"
   ]
  },
  {
   "cell_type": "code",
   "execution_count": 147,
   "id": "20f46f1d-b1fe-441c-8076-6643d7b265f4",
   "metadata": {},
   "outputs": [
    {
     "name": "stdout",
     "output_type": "stream",
     "text": [
      "     A\n",
      "    AB\n",
      "   ABC\n",
      "  ABCD\n",
      " ABCDE\n"
     ]
    }
   ],
   "source": [
    "n=5\n",
    "ch=65\n",
    "for i in range(0,n):\n",
    "    print(' '*(n-i),end=\"\")\n",
    "    for j in range(0,i+1):\n",
    "        print(chr(ch+j),end=\"\")\n",
    "    print()"
   ]
  },
  {
   "cell_type": "code",
   "execution_count": 152,
   "id": "2fb2733d-3fcd-4b68-8f0f-3a3d147bc74e",
   "metadata": {},
   "outputs": [
    {
     "name": "stdout",
     "output_type": "stream",
     "text": [
      "     A\n",
      "    ABA\n",
      "   ABCBA\n",
      "  ABCDCBA\n",
      " ABCDEDCBA\n"
     ]
    }
   ],
   "source": [
    "n=5\n",
    "ch=65\n",
    "for i in range(0,n):\n",
    "    print(' '*(n-i),end=\"\")\n",
    "    for j in range(0,i+1):\n",
    "        print(chr(ch+j),end=\"\")\n",
    "    for j in range(i,0,-1):\n",
    "        print(chr(ch+j-1),end=\"\")\n",
    "    print()"
   ]
  },
  {
   "cell_type": "raw",
   "id": "7cd13fd6-ad52-4e16-af09-523c7d01260c",
   "metadata": {},
   "source": [
    "21. MAGIC PATTERN"
   ]
  },
  {
   "cell_type": "code",
   "execution_count": 192,
   "id": "b0730cbd-e6cc-49e4-8286-b69018185459",
   "metadata": {},
   "outputs": [
    {
     "name": "stdout",
     "output_type": "stream",
     "text": [
      "* * * * * * * * * * \n",
      "* * * *     * * * * \n",
      "* * *         * * * \n",
      "* *             * * \n",
      "*                 * \n",
      "*                 * \n",
      "* *             * * \n",
      "* * *         * * * \n",
      "* * * *     * * * * \n",
      "* * * * * * * * * * \n"
     ]
    }
   ],
   "source": [
    "n=5\n",
    "for i in range(0,n):\n",
    "    print('* '*(n-i) + '  '*(i*2) + '* '*(n-i))\n",
    "for i in range(1,n+1):\n",
    "    print('* '*(i) + '  '*((n*2)-i*2) + '* '*(i))\n",
    "    "
   ]
  },
  {
   "cell_type": "raw",
   "id": "c3c402ff-a1c4-4026-916e-ae490e0b9e62",
   "metadata": {},
   "source": [
    "22. MAGIC PATTERN-2"
   ]
  },
  {
   "cell_type": "code",
   "execution_count": 18,
   "id": "adf74b7d-eccc-4dd5-81c8-6bb181ca289b",
   "metadata": {},
   "outputs": [
    {
     "name": "stdout",
     "output_type": "stream",
     "text": [
      "4 4 4 4 4 4 4 \n",
      "4 3 3 3 3 3 4 \n",
      "4 3 2 2 2 3 4 \n",
      "4 3 2 1 2 3 4 \n",
      "4 3 2 2 2 3 4 \n",
      "4 3 3 3 3 3 4 \n",
      "4 4 4 4 4 4 4 \n"
     ]
    }
   ],
   "source": [
    "n=4\n",
    "s=n*2-1\n",
    "for i in range(s):\n",
    "    for j in range(s):\n",
    "        val=max(abs(n-i-1),abs(n-1-j))+1\n",
    "        print(val,end=\" \")\n",
    "    print()"
   ]
  },
  {
   "cell_type": "code",
   "execution_count": 21,
   "id": "55cfe0af-e8b1-45f5-b475-f1a9801ed691",
   "metadata": {},
   "outputs": [
    {
     "name": "stdout",
     "output_type": "stream",
     "text": [
      "6 5 4 3 2 1 2 3 4 5 6 \n",
      "5 5 4 3 2 1 2 3 4 5 5 \n",
      "4 4 4 3 2 1 2 3 4 4 4 \n",
      "3 3 3 3 2 1 2 3 3 3 3 \n",
      "2 2 2 2 2 1 2 2 2 2 2 \n",
      "1 1 1 1 1 1 1 1 1 1 1 \n",
      "2 2 2 2 2 1 2 2 2 2 2 \n",
      "3 3 3 3 2 1 2 3 3 3 3 \n",
      "4 4 4 3 2 1 2 3 4 4 4 \n",
      "5 5 4 3 2 1 2 3 4 5 5 \n",
      "6 5 4 3 2 1 2 3 4 5 6 \n"
     ]
    }
   ],
   "source": [
    "n=6\n",
    "s=n*2-1\n",
    "for i in range(s):\n",
    "    for j in range(s):\n",
    "        val=min(abs(n-i-1),abs(n-1-j))+1\n",
    "        print(val,end=\" \")\n",
    "    print()"
   ]
  },
  {
   "cell_type": "code",
   "execution_count": 16,
   "id": "ac8193e6-3caf-4910-b148-c1b48983567b",
   "metadata": {},
   "outputs": [
    {
     "name": "stdin",
     "output_type": "stream",
     "text": [
      " 9\n"
     ]
    },
    {
     "name": "stdout",
     "output_type": "stream",
     "text": [
      "1               9 \n",
      "1 2           8 9 \n",
      "1 2 3       7 8 9 \n",
      "1 2 3 4   6 7 8 9 \n",
      "1 2 3 4 5 6 7 8 9 \n",
      "1 2 3 4   6 7 8 9 \n",
      "1 2 3       7 8 9 \n",
      "1 2           8 9 \n",
      "1               9 \n"
     ]
    }
   ],
   "source": [
    "n=int(input())\n",
    "for i in range(n):\n",
    "    for j in range(n):\n",
    "        if (i<=n//2):\n",
    "            if(j<=i or j>=n-i-1):\n",
    "                print(j+1,end=\" \")\n",
    "            else:\n",
    "                print(\" \",end=\" \")\n",
    "        else:\n",
    "            if (j<n-i or j>=i):\n",
    "                print(j+1,end=\" \")\n",
    "            else:\n",
    "                print(\" \",end=\" \")  \n",
    "    print()"
   ]
  },
  {
   "cell_type": "code",
   "execution_count": null,
   "id": "b2ceb25d-b016-4001-ae13-976558237ae6",
   "metadata": {},
   "outputs": [],
   "source": []
  }
 ],
 "metadata": {
  "kernelspec": {
   "display_name": "Python 3 (ipykernel)",
   "language": "python",
   "name": "python3"
  },
  "language_info": {
   "codemirror_mode": {
    "name": "ipython",
    "version": 3
   },
   "file_extension": ".py",
   "mimetype": "text/x-python",
   "name": "python",
   "nbconvert_exporter": "python",
   "pygments_lexer": "ipython3",
   "version": "3.12.7"
  }
 },
 "nbformat": 4,
 "nbformat_minor": 5
}
