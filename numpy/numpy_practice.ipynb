{
 "cells": [
  {
   "cell_type": "markdown",
   "id": "a88b3a35-0432-4a1d-a8a9-b8c761a3cf0d",
   "metadata": {},
   "source": [
    "# ⭐ numpy "
   ]
  },
  {
   "cell_type": "code",
   "execution_count": null,
   "id": "99b87378-140b-45f6-9d52-f93ed96d4f91",
   "metadata": {},
   "outputs": [],
   "source": [
    "import numpy as np"
   ]
  },
  {
   "cell_type": "code",
   "execution_count": 2,
   "id": "a2273115-3fad-4b52-b633-39dc7392f340",
   "metadata": {},
   "outputs": [
    {
     "data": {
      "text/plain": [
       "'1.26.4'"
      ]
     },
     "execution_count": 2,
     "metadata": {},
     "output_type": "execute_result"
    }
   ],
   "source": [
    "np.__version__"
   ]
  },
  {
   "cell_type": "code",
   "execution_count": 3,
   "id": "017e1495-0f6c-4d00-92ce-73bf8f582f2f",
   "metadata": {},
   "outputs": [
    {
     "data": {
      "text/plain": [
       "'3.12.7 | packaged by Anaconda, Inc. | (main, Oct  4 2024, 13:17:27) [MSC v.1929 64 bit (AMD64)]'"
      ]
     },
     "execution_count": 3,
     "metadata": {},
     "output_type": "execute_result"
    }
   ],
   "source": [
    "import sys\n",
    "sys.version"
   ]
  },
  {
   "cell_type": "markdown",
   "id": "04eb3970-6116-4592-b47b-4544f23116fe",
   "metadata": {},
   "source": [
    "# ⭐ creating array"
   ]
  },
  {
   "cell_type": "code",
   "execution_count": 5,
   "id": "5bcf584c-d88e-4a5b-ba2f-c50b28f79bfa",
   "metadata": {},
   "outputs": [
    {
     "data": {
      "text/plain": [
       "[0, 1, 2, 3, 4, 5]"
      ]
     },
     "execution_count": 5,
     "metadata": {},
     "output_type": "execute_result"
    }
   ],
   "source": [
    "l=[0,1,2,3,4,5]\n",
    "l"
   ]
  },
  {
   "cell_type": "code",
   "execution_count": 6,
   "id": "3d2e38ca-8bf7-46e8-8186-ded0ba80679c",
   "metadata": {},
   "outputs": [
    {
     "data": {
      "text/plain": [
       "list"
      ]
     },
     "execution_count": 6,
     "metadata": {},
     "output_type": "execute_result"
    }
   ],
   "source": [
    "type(l)"
   ]
  },
  {
   "cell_type": "markdown",
   "id": "abf65e61-765e-487f-9756-e6ea901101fb",
   "metadata": {},
   "source": [
    "# ⭐ convert list to array"
   ]
  },
  {
   "cell_type": "code",
   "execution_count": 8,
   "id": "02f3f094-5782-47fa-9e0e-d669117f23be",
   "metadata": {},
   "outputs": [],
   "source": [
    "arr=np.array(l)"
   ]
  },
  {
   "cell_type": "code",
   "execution_count": 9,
   "id": "a3fae418-d98a-46b2-b119-cd5bf67116ca",
   "metadata": {},
   "outputs": [
    {
     "data": {
      "text/plain": [
       "array([0, 1, 2, 3, 4, 5])"
      ]
     },
     "execution_count": 9,
     "metadata": {},
     "output_type": "execute_result"
    }
   ],
   "source": [
    "arr"
   ]
  },
  {
   "cell_type": "code",
   "execution_count": 10,
   "id": "14ffbda8-7aed-4bef-8708-53a5ab3b4698",
   "metadata": {},
   "outputs": [
    {
     "data": {
      "text/plain": [
       "numpy.ndarray"
      ]
     },
     "execution_count": 10,
     "metadata": {},
     "output_type": "execute_result"
    }
   ],
   "source": [
    "type(arr)"
   ]
  },
  {
   "cell_type": "code",
   "execution_count": 11,
   "id": "7d16ec5f-76fa-4659-8201-0192bc75d831",
   "metadata": {},
   "outputs": [
    {
     "data": {
      "text/plain": [
       "list"
      ]
     },
     "execution_count": 11,
     "metadata": {},
     "output_type": "execute_result"
    }
   ],
   "source": [
    "type(l)"
   ]
  },
  {
   "cell_type": "code",
   "execution_count": 13,
   "id": "8786cffd-9024-49a0-ac4e-fa7bdd5179bc",
   "metadata": {},
   "outputs": [
    {
     "data": {
      "text/plain": [
       "array([ 0,  1,  2,  3,  4,  5,  6,  7,  8,  9, 10])"
      ]
     },
     "execution_count": 13,
     "metadata": {},
     "output_type": "execute_result"
    }
   ],
   "source": [
    "np.arange(11)"
   ]
  },
  {
   "cell_type": "code",
   "execution_count": 15,
   "id": "ba3817c0-9b71-494a-92bc-6da503db4557",
   "metadata": {},
   "outputs": [
    {
     "data": {
      "text/plain": [
       "array([0., 1., 2., 3., 4., 5., 6., 7., 8.])"
      ]
     },
     "execution_count": 15,
     "metadata": {},
     "output_type": "execute_result"
    }
   ],
   "source": [
    " np.arange(8.4)"
   ]
  },
  {
   "cell_type": "code",
   "execution_count": 16,
   "id": "e845a5be-a9a5-4dbd-8860-14552f3ec97e",
   "metadata": {},
   "outputs": [
    {
     "data": {
      "text/plain": [
       "array([ 5,  6,  7,  8,  9, 10, 11, 12, 13, 14])"
      ]
     },
     "execution_count": 16,
     "metadata": {},
     "output_type": "execute_result"
    }
   ],
   "source": [
    "np.arange(5,15)"
   ]
  },
  {
   "cell_type": "code",
   "execution_count": 18,
   "id": "dbd98a6b-b53a-444c-81e2-921f0947eff9",
   "metadata": {},
   "outputs": [
    {
     "data": {
      "text/plain": [
       "array([], dtype=int32)"
      ]
     },
     "execution_count": 18,
     "metadata": {},
     "output_type": "execute_result"
    }
   ],
   "source": [
    "np.arange(20,13) # start is greater than end so empty array"
   ]
  },
  {
   "cell_type": "code",
   "execution_count": 19,
   "id": "b50dc6be-3528-407b-9520-b37cee517ece",
   "metadata": {},
   "outputs": [
    {
     "data": {
      "text/plain": [
       "array([-20, -19, -18, -17, -16, -15, -14, -13, -12, -11, -10,  -9,  -8,\n",
       "        -7,  -6,  -5,  -4,  -3,  -2,  -1,   0,   1,   2,   3,   4,   5,\n",
       "         6,   7,   8,   9,  10,  11])"
      ]
     },
     "execution_count": 19,
     "metadata": {},
     "output_type": "execute_result"
    }
   ],
   "source": [
    "np.arange(-20,12)"
   ]
  },
  {
   "cell_type": "code",
   "execution_count": 20,
   "id": "9636e4c5-2168-4282-a259-592aeb74f55f",
   "metadata": {},
   "outputs": [
    {
     "data": {
      "text/plain": [
       "array([-30, -29, -28, -27, -26, -25, -24, -23, -22, -21, -20, -19, -18,\n",
       "       -17, -16, -15, -14, -13, -12, -11, -10,  -9,  -8,  -7,  -6,  -5,\n",
       "        -4,  -3,  -2,  -1,   0,   1,   2,   3,   4,   5,   6,   7,   8,\n",
       "         9,  10,  11,  12,  13,  14,  15,  16,  17,  18,  19])"
      ]
     },
     "execution_count": 20,
     "metadata": {},
     "output_type": "execute_result"
    }
   ],
   "source": [
    "ar=np.arange(-30,20)\n",
    "ar"
   ]
  },
  {
   "cell_type": "code",
   "execution_count": 21,
   "id": "cbdc0fb0-5807-4791-9876-0ffc57172e29",
   "metadata": {},
   "outputs": [
    {
     "ename": "TypeError",
     "evalue": "arange() requires stop to be specified.",
     "output_type": "error",
     "traceback": [
      "\u001b[1;31m---------------------------------------------------------------------------\u001b[0m",
      "\u001b[1;31mTypeError\u001b[0m                                 Traceback (most recent call last)",
      "Cell \u001b[1;32mIn[21], line 1\u001b[0m\n\u001b[1;32m----> 1\u001b[0m np\u001b[38;5;241m.\u001b[39marange()\n",
      "\u001b[1;31mTypeError\u001b[0m: arange() requires stop to be specified."
     ]
    }
   ],
   "source": [
    "np.arange()"
   ]
  },
  {
   "cell_type": "code",
   "execution_count": 23,
   "id": "69c4ca34-59b9-4304-8df9-330fc52a82f4",
   "metadata": {},
   "outputs": [
    {
     "data": {
      "text/plain": [
       "array([10, 15, 20, 25])"
      ]
     },
     "execution_count": 23,
     "metadata": {},
     "output_type": "execute_result"
    }
   ],
   "source": [
    "np.arange(10,30,5) # start index is 10 end index is 30 step index is 5"
   ]
  },
  {
   "cell_type": "code",
   "execution_count": 24,
   "id": "951955bb-d3d2-4a87-ad7d-296edb9d274a",
   "metadata": {},
   "outputs": [
    {
     "ename": "TypeError",
     "evalue": "Cannot interpret '8' as a data type",
     "output_type": "error",
     "traceback": [
      "\u001b[1;31m---------------------------------------------------------------------------\u001b[0m",
      "\u001b[1;31mTypeError\u001b[0m                                 Traceback (most recent call last)",
      "Cell \u001b[1;32mIn[24], line 1\u001b[0m\n\u001b[1;32m----> 1\u001b[0m np\u001b[38;5;241m.\u001b[39marange(\u001b[38;5;241m10\u001b[39m,\u001b[38;5;241m30\u001b[39m,\u001b[38;5;241m5\u001b[39m,\u001b[38;5;241m8\u001b[39m)\n",
      "\u001b[1;31mTypeError\u001b[0m: Cannot interpret '8' as a data type"
     ]
    }
   ],
   "source": [
    "np.arange(10,30,5,8)"
   ]
  },
  {
   "cell_type": "code",
   "execution_count": 26,
   "id": "19f45216-062a-41cf-ae1b-71910b773796",
   "metadata": {},
   "outputs": [
    {
     "data": {
      "text/plain": [
       "array([0., 0., 0., 0., 0., 0., 0., 0., 0., 0.])"
      ]
     },
     "execution_count": 26,
     "metadata": {},
     "output_type": "execute_result"
    }
   ],
   "source": [
    "np.zeros(10)  "
   ]
  },
  {
   "cell_type": "raw",
   "id": "612951bb-649c-4532-a900-f561ad2e5ca8",
   "metadata": {},
   "source": [
    "# default type of array is float \n",
    "shift tab for desc--->  zeros(shape, dtype=float, order='C', *, like=None) \n",
    "- sys by default gave type as float ------->    parameter tunning\n",
    "- user change sys parameters ----------->       hyperparameter tunning (fine tune)"
   ]
  },
  {
   "cell_type": "code",
   "execution_count": 28,
   "id": "883d6c62-6581-40fb-ab17-204c05ddf956",
   "metadata": {},
   "outputs": [
    {
     "data": {
      "text/plain": [
       "array([0, 0, 0, 0, 0, 0, 0, 0, 0, 0])"
      ]
     },
     "execution_count": 28,
     "metadata": {},
     "output_type": "execute_result"
    }
   ],
   "source": [
    "np.zeros(10,dtype=int)  "
   ]
  },
  {
   "cell_type": "markdown",
   "id": "d48c2c81-f352-4f72-9761-3c4d6c2a35be",
   "metadata": {},
   "source": [
    "# ⭐ create 2d array"
   ]
  },
  {
   "cell_type": "code",
   "execution_count": 29,
   "id": "f390566a-9a65-49c8-a94c-cd15655c4ed7",
   "metadata": {},
   "outputs": [
    {
     "data": {
      "text/plain": [
       "array([[0, 0],\n",
       "       [0, 0]])"
      ]
     },
     "execution_count": 29,
     "metadata": {},
     "output_type": "execute_result"
    }
   ],
   "source": [
    "np.zeros((2,2),dtype=int)"
   ]
  },
  {
   "cell_type": "code",
   "execution_count": 31,
   "id": "70bcd9a9-db16-435c-a88c-bf325b87d567",
   "metadata": {},
   "outputs": [
    {
     "name": "stdout",
     "output_type": "stream",
     "text": [
      "[[0 0]\n",
      " [0 0]]\n",
      "<class 'numpy.ndarray'>\n"
     ]
    }
   ],
   "source": [
    "z=np.zeros([2,2] , dtype=int)\n",
    "print(z)\n",
    "print(type(z))"
   ]
  },
  {
   "cell_type": "code",
   "execution_count": 33,
   "id": "93036337-7038-4a11-8f7c-02fae33196f4",
   "metadata": {},
   "outputs": [
    {
     "data": {
      "text/plain": [
       "array([[0., 0., 0., 0., 0., 0., 0., 0., 0., 0.],\n",
       "       [0., 0., 0., 0., 0., 0., 0., 0., 0., 0.]])"
      ]
     },
     "execution_count": 33,
     "metadata": {},
     "output_type": "execute_result"
    }
   ],
   "source": [
    "np.zeros([2,10])"
   ]
  },
  {
   "cell_type": "code",
   "execution_count": 36,
   "id": "6ea58671-3392-4b03-964a-f1608380a6b7",
   "metadata": {},
   "outputs": [
    {
     "data": {
      "text/plain": [
       "array([[0, 0, 0, 0, 0, 0, 0, 0, 0, 0],\n",
       "       [0, 0, 0, 0, 0, 0, 0, 0, 0, 0],\n",
       "       [0, 0, 0, 0, 0, 0, 0, 0, 0, 0],\n",
       "       [0, 0, 0, 0, 0, 0, 0, 0, 0, 0],\n",
       "       [0, 0, 0, 0, 0, 0, 0, 0, 0, 0],\n",
       "       [0, 0, 0, 0, 0, 0, 0, 0, 0, 0],\n",
       "       [0, 0, 0, 0, 0, 0, 0, 0, 0, 0],\n",
       "       [0, 0, 0, 0, 0, 0, 0, 0, 0, 0],\n",
       "       [0, 0, 0, 0, 0, 0, 0, 0, 0, 0],\n",
       "       [0, 0, 0, 0, 0, 0, 0, 0, 0, 0]])"
      ]
     },
     "execution_count": 36,
     "metadata": {},
     "output_type": "execute_result"
    }
   ],
   "source": [
    "np.zeros((10,10),dtype=int)  # n-d array"
   ]
  },
  {
   "cell_type": "code",
   "execution_count": 37,
   "id": "ef87daa3-0b8c-4fe7-9aea-c9d18de92ec3",
   "metadata": {},
   "outputs": [
    {
     "data": {
      "text/plain": [
       "array([1., 1., 1.])"
      ]
     },
     "execution_count": 37,
     "metadata": {},
     "output_type": "execute_result"
    }
   ],
   "source": [
    "np.ones(3)"
   ]
  },
  {
   "cell_type": "code",
   "execution_count": 38,
   "id": "81b57c8b-50bd-4855-a172-0eac9c6d6568",
   "metadata": {},
   "outputs": [
    {
     "data": {
      "text/plain": [
       "array([[1., 1., 1.],\n",
       "       [1., 1., 1.],\n",
       "       [1., 1., 1.]])"
      ]
     },
     "execution_count": 38,
     "metadata": {},
     "output_type": "execute_result"
    }
   ],
   "source": [
    "np.ones((3,3))"
   ]
  },
  {
   "cell_type": "code",
   "execution_count": 39,
   "id": "8a9fce0c-bc79-4ded-87dc-d1cfb4eaabef",
   "metadata": {},
   "outputs": [
    {
     "data": {
      "text/plain": [
       "array([1, 1, 1, 1])"
      ]
     },
     "execution_count": 39,
     "metadata": {},
     "output_type": "execute_result"
    }
   ],
   "source": [
    "np.ones(4,dtype=int)"
   ]
  },
  {
   "cell_type": "code",
   "execution_count": 41,
   "id": "a724d829-bdad-4887-a145-282a25725f2b",
   "metadata": {},
   "outputs": [
    {
     "ename": "AttributeError",
     "evalue": "module 'numpy' has no attribute 'twos'",
     "output_type": "error",
     "traceback": [
      "\u001b[1;31m---------------------------------------------------------------------------\u001b[0m",
      "\u001b[1;31mAttributeError\u001b[0m                            Traceback (most recent call last)",
      "Cell \u001b[1;32mIn[41], line 1\u001b[0m\n\u001b[1;32m----> 1\u001b[0m np\u001b[38;5;241m.\u001b[39mtwos((\u001b[38;5;241m2\u001b[39m,\u001b[38;5;241m3\u001b[39m))\n",
      "File \u001b[1;32mC:\\ProgramData\\anaconda3\\Lib\\site-packages\\numpy\\__init__.py:333\u001b[0m, in \u001b[0;36m__getattr__\u001b[1;34m(attr)\u001b[0m\n\u001b[0;32m    330\u001b[0m     \u001b[38;5;124m\"\u001b[39m\u001b[38;5;124mRemoved in NumPy 1.25.0\u001b[39m\u001b[38;5;124m\"\u001b[39m\n\u001b[0;32m    331\u001b[0m     \u001b[38;5;28;01mraise\u001b[39;00m \u001b[38;5;167;01mRuntimeError\u001b[39;00m(\u001b[38;5;124m\"\u001b[39m\u001b[38;5;124mTester was removed in NumPy 1.25.\u001b[39m\u001b[38;5;124m\"\u001b[39m)\n\u001b[1;32m--> 333\u001b[0m \u001b[38;5;28;01mraise\u001b[39;00m \u001b[38;5;167;01mAttributeError\u001b[39;00m(\u001b[38;5;124m\"\u001b[39m\u001b[38;5;124mmodule \u001b[39m\u001b[38;5;132;01m{!r}\u001b[39;00m\u001b[38;5;124m has no attribute \u001b[39m\u001b[38;5;124m\"\u001b[39m\n\u001b[0;32m    334\u001b[0m                      \u001b[38;5;124m\"\u001b[39m\u001b[38;5;132;01m{!r}\u001b[39;00m\u001b[38;5;124m\"\u001b[39m\u001b[38;5;241m.\u001b[39mformat(\u001b[38;5;18m__name__\u001b[39m, attr))\n",
      "\u001b[1;31mAttributeError\u001b[0m: module 'numpy' has no attribute 'twos'"
     ]
    }
   ],
   "source": [
    "np.twos((2,3))   # we dont have this"
   ]
  },
  {
   "cell_type": "code",
   "execution_count": 42,
   "id": "ea6a11b0-4c77-43ae-9b49-34b7686fbc52",
   "metadata": {},
   "outputs": [
    {
     "ename": "NameError",
     "evalue": "name 'rand' is not defined",
     "output_type": "error",
     "traceback": [
      "\u001b[1;31m---------------------------------------------------------------------------\u001b[0m",
      "\u001b[1;31mNameError\u001b[0m                                 Traceback (most recent call last)",
      "Cell \u001b[1;32mIn[42], line 1\u001b[0m\n\u001b[1;32m----> 1\u001b[0m rand(\u001b[38;5;241m3\u001b[39m,\u001b[38;5;241m2\u001b[39m)\n",
      "\u001b[1;31mNameError\u001b[0m: name 'rand' is not defined"
     ]
    }
   ],
   "source": [
    "rand(3,2)"
   ]
  },
  {
   "cell_type": "code",
   "execution_count": 43,
   "id": "9c893661-acad-4e41-beb3-c5316e53153a",
   "metadata": {},
   "outputs": [
    {
     "ename": "NameError",
     "evalue": "name 'random' is not defined",
     "output_type": "error",
     "traceback": [
      "\u001b[1;31m---------------------------------------------------------------------------\u001b[0m",
      "\u001b[1;31mNameError\u001b[0m                                 Traceback (most recent call last)",
      "Cell \u001b[1;32mIn[43], line 1\u001b[0m\n\u001b[1;32m----> 1\u001b[0m random\u001b[38;5;241m.\u001b[39mrand(\u001b[38;5;241m3\u001b[39m,\u001b[38;5;241m2\u001b[39m)\n",
      "\u001b[1;31mNameError\u001b[0m: name 'random' is not defined"
     ]
    }
   ],
   "source": [
    "random.rand(3,2)"
   ]
  },
  {
   "cell_type": "raw",
   "id": "edab8b57-c781-499f-a816-39d63308cabd",
   "metadata": {},
   "source": [
    " - rand is a func in -----  random is a module ----- from np package"
   ]
  },
  {
   "cell_type": "code",
   "execution_count": 45,
   "id": "8737cda6-2a47-4237-b4a6-f8db1402c6bb",
   "metadata": {},
   "outputs": [
    {
     "data": {
      "text/plain": [
       "array([0.23037411, 0.90863529, 0.98288522, 0.74285536, 0.66316478])"
      ]
     },
     "execution_count": 45,
     "metadata": {},
     "output_type": "execute_result"
    }
   ],
   "source": [
    "np.random.rand(5)"
   ]
  },
  {
   "cell_type": "code",
   "execution_count": 46,
   "id": "636c0b11-3bbb-4d2b-bc13-9af142ae32ae",
   "metadata": {},
   "outputs": [
    {
     "ename": "AttributeError",
     "evalue": "module 'numpy' has no attribute 'rand'",
     "output_type": "error",
     "traceback": [
      "\u001b[1;31m---------------------------------------------------------------------------\u001b[0m",
      "\u001b[1;31mAttributeError\u001b[0m                            Traceback (most recent call last)",
      "Cell \u001b[1;32mIn[46], line 1\u001b[0m\n\u001b[1;32m----> 1\u001b[0m np\u001b[38;5;241m.\u001b[39mrand(\u001b[38;5;241m6\u001b[39m)\n",
      "File \u001b[1;32mC:\\ProgramData\\anaconda3\\Lib\\site-packages\\numpy\\__init__.py:333\u001b[0m, in \u001b[0;36m__getattr__\u001b[1;34m(attr)\u001b[0m\n\u001b[0;32m    330\u001b[0m     \u001b[38;5;124m\"\u001b[39m\u001b[38;5;124mRemoved in NumPy 1.25.0\u001b[39m\u001b[38;5;124m\"\u001b[39m\n\u001b[0;32m    331\u001b[0m     \u001b[38;5;28;01mraise\u001b[39;00m \u001b[38;5;167;01mRuntimeError\u001b[39;00m(\u001b[38;5;124m\"\u001b[39m\u001b[38;5;124mTester was removed in NumPy 1.25.\u001b[39m\u001b[38;5;124m\"\u001b[39m)\n\u001b[1;32m--> 333\u001b[0m \u001b[38;5;28;01mraise\u001b[39;00m \u001b[38;5;167;01mAttributeError\u001b[39;00m(\u001b[38;5;124m\"\u001b[39m\u001b[38;5;124mmodule \u001b[39m\u001b[38;5;132;01m{!r}\u001b[39;00m\u001b[38;5;124m has no attribute \u001b[39m\u001b[38;5;124m\"\u001b[39m\n\u001b[0;32m    334\u001b[0m                      \u001b[38;5;124m\"\u001b[39m\u001b[38;5;132;01m{!r}\u001b[39;00m\u001b[38;5;124m\"\u001b[39m\u001b[38;5;241m.\u001b[39mformat(\u001b[38;5;18m__name__\u001b[39m, attr))\n",
      "\u001b[1;31mAttributeError\u001b[0m: module 'numpy' has no attribute 'rand'"
     ]
    }
   ],
   "source": [
    "np.rand(6)"
   ]
  },
  {
   "cell_type": "code",
   "execution_count": 50,
   "id": "aca01a9c-8466-43af-83aa-2bb92a09ebd9",
   "metadata": {},
   "outputs": [
    {
     "data": {
      "text/plain": [
       "array([[0.72439456, 0.13975605, 0.90735485, 0.64236403],\n",
       "       [0.05353849, 0.03496967, 0.16546746, 0.90908461],\n",
       "       [0.335521  , 0.17698026, 0.04846728, 0.17042775]])"
      ]
     },
     "execution_count": 50,
     "metadata": {},
     "output_type": "execute_result"
    }
   ],
   "source": [
    "np.random.rand(3,4)  # 3 rows 4 columns with decimal vlues"
   ]
  },
  {
   "cell_type": "code",
   "execution_count": 56,
   "id": "9e217d97-6a42-4442-b609-4dea0071fd89",
   "metadata": {},
   "outputs": [
    {
     "data": {
      "text/plain": [
       "3"
      ]
     },
     "execution_count": 56,
     "metadata": {},
     "output_type": "execute_result"
    }
   ],
   "source": [
    "np.random.randint(3,10) #Return random integers from `low` (inclusive) to `high` (exclusive)."
   ]
  },
  {
   "cell_type": "code",
   "execution_count": 59,
   "id": "171fca3e-b962-4cd7-a50c-60a1071b5bd5",
   "metadata": {},
   "outputs": [
    {
     "data": {
      "text/plain": [
       "array([7, 8, 4])"
      ]
     },
     "execution_count": 59,
     "metadata": {},
     "output_type": "execute_result"
    }
   ],
   "source": [
    "np.random.randint(3,10,3) # last arg means that many random no.s in output"
   ]
  },
  {
   "cell_type": "code",
   "execution_count": 61,
   "id": "09291765-ed8e-4648-a3fd-f2166c16fb1b",
   "metadata": {},
   "outputs": [
    {
     "ename": "TypeError",
     "evalue": "Cannot interpret '4' as a data type",
     "output_type": "error",
     "traceback": [
      "\u001b[1;31m---------------------------------------------------------------------------\u001b[0m",
      "\u001b[1;31mTypeError\u001b[0m                                 Traceback (most recent call last)",
      "Cell \u001b[1;32mIn[61], line 1\u001b[0m\n\u001b[1;32m----> 1\u001b[0m np\u001b[38;5;241m.\u001b[39mrandom\u001b[38;5;241m.\u001b[39mrandint(\u001b[38;5;241m3\u001b[39m,\u001b[38;5;241m10\u001b[39m,\u001b[38;5;241m3\u001b[39m,\u001b[38;5;241m4\u001b[39m)\n",
      "File \u001b[1;32mnumpy\\\\random\\\\mtrand.pyx:761\u001b[0m, in \u001b[0;36mnumpy.random.mtrand.RandomState.randint\u001b[1;34m()\u001b[0m\n",
      "\u001b[1;31mTypeError\u001b[0m: Cannot interpret '4' as a data type"
     ]
    }
   ],
   "source": [
    "np.random.randint(3,10,3,4) # only 3 ARGS"
   ]
  },
  {
   "cell_type": "code",
   "execution_count": 64,
   "id": "816616d8-34f5-4821-a778-eb49583ca189",
   "metadata": {},
   "outputs": [
    {
     "data": {
      "text/plain": [
       "array([[18, 22, 24, 11, 35, 20, 29, 38, 15, 26],\n",
       "       [29, 34, 19, 39, 37, 22, 29, 28, 35, 12],\n",
       "       [12, 21, 29, 13, 37, 15, 10, 38, 32, 38],\n",
       "       [10, 28, 33, 14, 25, 38, 19, 34, 31, 22],\n",
       "       [21, 12, 16, 36, 28, 10, 39, 35, 23, 31]])"
      ]
     },
     "execution_count": 64,
     "metadata": {},
     "output_type": "execute_result"
    }
   ],
   "source": [
    "np.random.randint(10,40,(5,10)) # generate 2-d array (5*10) size with 10-40 of random no.s"
   ]
  },
  {
   "cell_type": "markdown",
   "id": "043df01c-e0e9-4f47-904c-179aa2e0fdec",
   "metadata": {},
   "source": [
    "# ⭐ reshape"
   ]
  },
  {
   "cell_type": "code",
   "execution_count": 65,
   "id": "a6272d38-e3de-4855-9971-1e9448ea8b5d",
   "metadata": {},
   "outputs": [
    {
     "data": {
      "text/plain": [
       "array([ 1,  2,  3,  4,  5,  6,  7,  8,  9, 10, 11, 12])"
      ]
     },
     "execution_count": 65,
     "metadata": {},
     "output_type": "execute_result"
    }
   ],
   "source": [
    "np.arange(1,13)"
   ]
  },
  {
   "cell_type": "code",
   "execution_count": 73,
   "id": "e73143cd-4752-4730-a089-0e2512813dc6",
   "metadata": {},
   "outputs": [
    {
     "data": {
      "text/plain": [
       "array([[ 1,  2,  3,  4],\n",
       "       [ 5,  6,  7,  8],\n",
       "       [ 9, 10, 11, 12]])"
      ]
     },
     "execution_count": 73,
     "metadata": {},
     "output_type": "execute_result"
    }
   ],
   "source": [
    "np.arange(1,13).reshape(3,4)  # 3*4=12\n"
   ]
  },
  {
   "cell_type": "code",
   "execution_count": 74,
   "id": "a639c662-0575-455f-9fbe-94cadc80dff0",
   "metadata": {},
   "outputs": [
    {
     "ename": "ValueError",
     "evalue": "cannot reshape array of size 12 into shape (5,4)",
     "output_type": "error",
     "traceback": [
      "\u001b[1;31m---------------------------------------------------------------------------\u001b[0m",
      "\u001b[1;31mValueError\u001b[0m                                Traceback (most recent call last)",
      "Cell \u001b[1;32mIn[74], line 1\u001b[0m\n\u001b[1;32m----> 1\u001b[0m np\u001b[38;5;241m.\u001b[39marange(\u001b[38;5;241m1\u001b[39m,\u001b[38;5;241m13\u001b[39m)\u001b[38;5;241m.\u001b[39mreshape(\u001b[38;5;241m5\u001b[39m,\u001b[38;5;241m4\u001b[39m)\n",
      "\u001b[1;31mValueError\u001b[0m: cannot reshape array of size 12 into shape (5,4)"
     ]
    }
   ],
   "source": [
    "np.arange(1,13).reshape(5,4)  #5*4=20  != 12 so error"
   ]
  },
  {
   "cell_type": "code",
   "execution_count": 75,
   "id": "2ae4b289-05ac-499f-bd65-f934bcb26770",
   "metadata": {},
   "outputs": [
    {
     "data": {
      "text/plain": [
       "array([[ 1,  2,  3],\n",
       "       [ 4,  5,  6],\n",
       "       [ 7,  8,  9],\n",
       "       [10, 11, 12]])"
      ]
     },
     "execution_count": 75,
     "metadata": {},
     "output_type": "execute_result"
    }
   ],
   "source": [
    "np.arange(1,13).reshape(4,3)"
   ]
  },
  {
   "cell_type": "markdown",
   "id": "8ae44d04-0ff2-4dc0-88bb-cb0979f8ddd2",
   "metadata": {},
   "source": [
    "# ⭐ slicing in matrix"
   ]
  },
  {
   "cell_type": "code",
   "execution_count": 77,
   "id": "b2447e36-a758-45a8-abbc-702a3282bb7f",
   "metadata": {},
   "outputs": [
    {
     "data": {
      "text/plain": [
       "array([[23, 25, 15, 12, 13],\n",
       "       [25, 17, 24, 18, 11],\n",
       "       [15, 16, 26, 11, 11],\n",
       "       [26, 22, 15, 24, 28]])"
      ]
     },
     "execution_count": 77,
     "metadata": {},
     "output_type": "execute_result"
    }
   ],
   "source": [
    "m=np.random.randint(10,30,(4,5))\n",
    "m"
   ]
  },
  {
   "cell_type": "code",
   "execution_count": 79,
   "id": "d2d399df-c71a-48d2-815c-985bd67338dd",
   "metadata": {},
   "outputs": [
    {
     "data": {
      "text/plain": [
       "numpy.ndarray"
      ]
     },
     "execution_count": 79,
     "metadata": {},
     "output_type": "execute_result"
    }
   ],
   "source": [
    "type(m)"
   ]
  },
  {
   "cell_type": "code",
   "execution_count": 80,
   "id": "ad241ff3-5504-40e1-b670-2bac319844a9",
   "metadata": {},
   "outputs": [
    {
     "data": {
      "text/plain": [
       "array([[23, 25, 15, 12, 13],\n",
       "       [25, 17, 24, 18, 11],\n",
       "       [15, 16, 26, 11, 11],\n",
       "       [26, 22, 15, 24, 28]])"
      ]
     },
     "execution_count": 80,
     "metadata": {},
     "output_type": "execute_result"
    }
   ],
   "source": [
    "m[:]"
   ]
  },
  {
   "cell_type": "markdown",
   "id": "5b394b5d-cc84-466b-9dd8-6f36cacc07a9",
   "metadata": {},
   "source": [
    "# ⭐ diff. b/w [:]  slicing    and [,]  indexing"
   ]
  },
  {
   "cell_type": "raw",
   "id": "c8031f0f-5e00-467f-a037-61bd8790db56",
   "metadata": {},
   "source": [
    "#  👇 *** n-1 for 2nd arg  ------ 1st and 2nd row only dont include 3rd  ------>     [:] --> specific rows"
   ]
  },
  {
   "cell_type": "code",
   "execution_count": 106,
   "id": "1a35a05f-d95d-4cae-8cbb-2ff61832a62a",
   "metadata": {},
   "outputs": [
    {
     "data": {
      "text/plain": [
       "array([[25, 17, 24, 18, 11],\n",
       "       [15, 16, 26, 11, 11]])"
      ]
     },
     "execution_count": 106,
     "metadata": {},
     "output_type": "execute_result"
    }
   ],
   "source": [
    "m[1:3]  "
   ]
  },
  {
   "cell_type": "raw",
   "id": "a62726b4-7c06-4347-8bac-f6aec2847264",
   "metadata": {},
   "source": [
    " # 👇 *** no n-1 for 2nd arg ------- element of 1st row and 3rd column  --- 0 indexed    [,] --> specific element"
   ]
  },
  {
   "cell_type": "code",
   "execution_count": 107,
   "id": "cebeb5ea-e545-4209-a5e2-9bac58434813",
   "metadata": {},
   "outputs": [
    {
     "data": {
      "text/plain": [
       "18"
      ]
     },
     "execution_count": 107,
     "metadata": {},
     "output_type": "execute_result"
    }
   ],
   "source": [
    "m[1,3]  "
   ]
  },
  {
   "cell_type": "code",
   "execution_count": 108,
   "id": "da3dbded-fe0a-462a-9847-8fd9d8c85f37",
   "metadata": {},
   "outputs": [
    {
     "data": {
      "text/plain": [
       "array([[23, 25, 15, 12, 13],\n",
       "       [25, 17, 24, 18, 11],\n",
       "       [15, 16, 26, 11, 11],\n",
       "       [26, 22, 15, 24, 28]])"
      ]
     },
     "execution_count": 108,
     "metadata": {},
     "output_type": "execute_result"
    }
   ],
   "source": [
    "m"
   ]
  },
  {
   "cell_type": "code",
   "execution_count": 101,
   "id": "01d779f7-e073-4c54-ab0e-5e2d6215868a",
   "metadata": {},
   "outputs": [
    {
     "ename": "IndexError",
     "evalue": "index 4 is out of bounds for axis 0 with size 4",
     "output_type": "error",
     "traceback": [
      "\u001b[1;31m---------------------------------------------------------------------------\u001b[0m",
      "\u001b[1;31mIndexError\u001b[0m                                Traceback (most recent call last)",
      "Cell \u001b[1;32mIn[101], line 1\u001b[0m\n\u001b[1;32m----> 1\u001b[0m m[\u001b[38;5;241m4\u001b[39m,\u001b[38;5;241m0\u001b[39m]\n",
      "\u001b[1;31mIndexError\u001b[0m: index 4 is out of bounds for axis 0 with size 4"
     ]
    }
   ],
   "source": [
    "m[4,0]"
   ]
  },
  {
   "cell_type": "code",
   "execution_count": 102,
   "id": "a5412614-da61-4bd9-bb93-a09fbb2318ba",
   "metadata": {},
   "outputs": [
    {
     "data": {
      "text/plain": [
       "26"
      ]
     },
     "execution_count": 102,
     "metadata": {},
     "output_type": "execute_result"
    }
   ],
   "source": [
    "m[3,0]"
   ]
  },
  {
   "cell_type": "code",
   "execution_count": 104,
   "id": "b08c3c18-94b8-4585-ab09-d85dc0ff2817",
   "metadata": {},
   "outputs": [
    {
     "data": {
      "text/plain": [
       "array([[23, 25, 15, 12, 13],\n",
       "       [25, 17, 24, 18, 11],\n",
       "       [15, 16, 26, 11, 11],\n",
       "       [26, 22, 15, 24, 28]])"
      ]
     },
     "execution_count": 104,
     "metadata": {},
     "output_type": "execute_result"
    }
   ],
   "source": [
    "m"
   ]
  },
  {
   "cell_type": "code",
   "execution_count": 105,
   "id": "057a7b25-98fb-4629-a3ab-046318713287",
   "metadata": {},
   "outputs": [
    {
     "data": {
      "text/plain": [
       "11"
      ]
     },
     "execution_count": 105,
     "metadata": {},
     "output_type": "execute_result"
    }
   ],
   "source": [
    "m[1,-1]  # 1st row --- last column"
   ]
  },
  {
   "cell_type": "code",
   "execution_count": 109,
   "id": "39626140-ece0-424d-bf30-32b8ccd211f9",
   "metadata": {},
   "outputs": [
    {
     "data": {
      "text/plain": [
       "array([[23, 25, 15, 12, 13],\n",
       "       [25, 17, 24, 18, 11]])"
      ]
     },
     "execution_count": 109,
     "metadata": {},
     "output_type": "execute_result"
    }
   ],
   "source": [
    "m[0:-2]"
   ]
  },
  {
   "cell_type": "code",
   "execution_count": 110,
   "id": "ab7bcb74-2dca-4ba0-8ede-ad8bf264938c",
   "metadata": {},
   "outputs": [
    {
     "data": {
      "text/plain": [
       "12"
      ]
     },
     "execution_count": 110,
     "metadata": {},
     "output_type": "execute_result"
    }
   ],
   "source": [
    "m[-4,-2]"
   ]
  },
  {
   "cell_type": "code",
   "execution_count": 111,
   "id": "d298efa1-ad98-4800-b68a-4346faff6b8a",
   "metadata": {},
   "outputs": [
    {
     "data": {
      "text/plain": [
       "24"
      ]
     },
     "execution_count": 111,
     "metadata": {},
     "output_type": "execute_result"
    }
   ],
   "source": [
    "m[-3,2]"
   ]
  },
  {
   "cell_type": "markdown",
   "id": "cb1208bd-559b-49e3-ad60-9f6113273532",
   "metadata": {},
   "source": [
    "# ⭐ operations"
   ]
  },
  {
   "cell_type": "code",
   "execution_count": 115,
   "id": "e965d9c3-3f76-485d-be39-0d9a2146135f",
   "metadata": {},
   "outputs": [
    {
     "data": {
      "text/plain": [
       "array([14, 17, 11, 12, 19, 18, 14, 19, 18, 19])"
      ]
     },
     "execution_count": 115,
     "metadata": {},
     "output_type": "execute_result"
    }
   ],
   "source": [
    "a=np.random.randint(10,20,(10))\n",
    "a"
   ]
  },
  {
   "cell_type": "code",
   "execution_count": 116,
   "id": "5c75b776-c7c2-429b-96c7-6cc8beb1930c",
   "metadata": {},
   "outputs": [
    {
     "data": {
      "text/plain": [
       "'__main__'"
      ]
     },
     "execution_count": 116,
     "metadata": {},
     "output_type": "execute_result"
    }
   ],
   "source": [
    "__name__"
   ]
  },
  {
   "cell_type": "code",
   "execution_count": 117,
   "id": "8ab9ff18-c642-49e4-a16c-e5396a3d0665",
   "metadata": {},
   "outputs": [
    {
     "data": {
      "text/plain": [
       "1880412448464"
      ]
     },
     "execution_count": 117,
     "metadata": {},
     "output_type": "execute_result"
    }
   ],
   "source": [
    "id(a)"
   ]
  },
  {
   "cell_type": "code",
   "execution_count": 118,
   "id": "fe36ed97-a7a0-4791-ba86-4e4fa668c7b7",
   "metadata": {},
   "outputs": [
    {
     "data": {
      "text/plain": [
       "array([0, 1, 2, 3, 4, 5])"
      ]
     },
     "execution_count": 118,
     "metadata": {},
     "output_type": "execute_result"
    }
   ],
   "source": [
    "arr"
   ]
  },
  {
   "cell_type": "markdown",
   "id": "bf8805e0-d7c3-42a6-8860-e76d363dc801",
   "metadata": {},
   "source": [
    "# ⭐ create 10*10 matrix between  0 - 100"
   ]
  },
  {
   "cell_type": "code",
   "execution_count": 120,
   "id": "a777abd4-013b-4c94-9a78-92128789a065",
   "metadata": {},
   "outputs": [
    {
     "data": {
      "text/plain": [
       "array([[26, 53, 71, 73, 96, 60, 71, 46, 88, 91],\n",
       "       [57, 96, 18, 56, 62, 27, 78, 12,  4, 86],\n",
       "       [87, 82, 65, 42, 76, 82,  7, 21, 57, 92],\n",
       "       [21, 72, 56, 18, 19, 65, 24, 97, 11,  9],\n",
       "       [19, 93, 18,  0, 71, 90, 54,  6, 23, 19],\n",
       "       [46, 24, 45, 98, 43, 62,  1, 65, 11, 83],\n",
       "       [91, 98,  6, 10, 50, 54, 37,  3, 78, 66],\n",
       "       [25, 63, 76, 95, 58, 67, 88, 46, 62, 44],\n",
       "       [18, 12, 97, 34, 37, 93, 14, 51, 21, 61],\n",
       "       [25, 18, 19, 50, 82, 82, 86, 21, 25,  3]])"
      ]
     },
     "execution_count": 120,
     "metadata": {},
     "output_type": "execute_result"
    }
   ],
   "source": [
    "arr2=np.random.randint(0,100,(10,10))\n",
    "arr2 "
   ]
  },
  {
   "cell_type": "code",
   "execution_count": 121,
   "id": "f41c5698-24d7-40c9-ab26-8036d54a7726",
   "metadata": {},
   "outputs": [
    {
     "data": {
      "text/plain": [
       "array([0, 1, 2, 3])"
      ]
     },
     "execution_count": 121,
     "metadata": {},
     "output_type": "execute_result"
    }
   ],
   "source": [
    "arr[:4]"
   ]
  },
  {
   "cell_type": "code",
   "execution_count": 122,
   "id": "3a1e19ee-c7fa-43b8-9732-678e5c1561fc",
   "metadata": {},
   "outputs": [
    {
     "data": {
      "text/plain": [
       "array([[26, 53, 71, 73, 96, 60, 71, 46, 88, 91],\n",
       "       [57, 96, 18, 56, 62, 27, 78, 12,  4, 86],\n",
       "       [87, 82, 65, 42, 76, 82,  7, 21, 57, 92],\n",
       "       [21, 72, 56, 18, 19, 65, 24, 97, 11,  9],\n",
       "       [19, 93, 18,  0, 71, 90, 54,  6, 23, 19],\n",
       "       [46, 24, 45, 98, 43, 62,  1, 65, 11, 83],\n",
       "       [91, 98,  6, 10, 50, 54, 37,  3, 78, 66],\n",
       "       [25, 63, 76, 95, 58, 67, 88, 46, 62, 44],\n",
       "       [18, 12, 97, 34, 37, 93, 14, 51, 21, 61],\n",
       "       [25, 18, 19, 50, 82, 82, 86, 21, 25,  3]])"
      ]
     },
     "execution_count": 122,
     "metadata": {},
     "output_type": "execute_result"
    }
   ],
   "source": [
    "arr2[:]"
   ]
  },
  {
   "cell_type": "code",
   "execution_count": 123,
   "id": "d04885f5-0825-428a-867e-8059161079f8",
   "metadata": {},
   "outputs": [
    {
     "data": {
      "text/plain": [
       "array([[26, 53, 71, 73, 96, 60, 71, 46, 88, 91],\n",
       "       [57, 96, 18, 56, 62, 27, 78, 12,  4, 86],\n",
       "       [87, 82, 65, 42, 76, 82,  7, 21, 57, 92],\n",
       "       [21, 72, 56, 18, 19, 65, 24, 97, 11,  9],\n",
       "       [19, 93, 18,  0, 71, 90, 54,  6, 23, 19]])"
      ]
     },
     "execution_count": 123,
     "metadata": {},
     "output_type": "execute_result"
    }
   ],
   "source": [
    "arr2[0:5]"
   ]
  },
  {
   "cell_type": "code",
   "execution_count": 125,
   "id": "e79b5d82-a8dd-469d-a6b5-c5f0c077a9a2",
   "metadata": {},
   "outputs": [
    {
     "data": {
      "text/plain": [
       "62"
      ]
     },
     "execution_count": 125,
     "metadata": {},
     "output_type": "execute_result"
    }
   ],
   "source": [
    "arr2[1,4]"
   ]
  },
  {
   "cell_type": "code",
   "execution_count": 127,
   "id": "8370afa0-7725-4a71-93b8-1f8e4b1ec106",
   "metadata": {},
   "outputs": [
    {
     "data": {
      "text/plain": [
       "array([[26, 53, 71, 73, 96, 60, 71, 46, 88, 91],\n",
       "       [57, 96, 18, 56, 62, 27, 78, 12,  4, 86],\n",
       "       [87, 82, 65, 42, 76, 82,  7, 21, 57, 92],\n",
       "       [21, 72, 56, 18, 19, 65, 24, 97, 11,  9],\n",
       "       [19, 93, 18,  0, 71, 90, 54,  6, 23, 19],\n",
       "       [46, 24, 45, 98, 43, 62,  1, 65, 11, 83],\n",
       "       [91, 98,  6, 10, 50, 54, 37,  3, 78, 66],\n",
       "       [25, 63, 76, 95, 58, 67, 88, 46, 62, 44],\n",
       "       [18, 12, 97, 34, 37, 93, 14, 51, 21, 61],\n",
       "       [25, 18, 19, 50, 82, 82, 86, 21, 25,  3]])"
      ]
     },
     "execution_count": 127,
     "metadata": {},
     "output_type": "execute_result"
    }
   ],
   "source": [
    "arr2"
   ]
  },
  {
   "cell_type": "code",
   "execution_count": 126,
   "id": "afbb9805-17bb-479c-928a-8517077ffd71",
   "metadata": {},
   "outputs": [
    {
     "data": {
      "text/plain": [
       "array([[25, 18, 19, 50, 82, 82, 86, 21, 25,  3],\n",
       "       [18, 12, 97, 34, 37, 93, 14, 51, 21, 61],\n",
       "       [25, 63, 76, 95, 58, 67, 88, 46, 62, 44],\n",
       "       [91, 98,  6, 10, 50, 54, 37,  3, 78, 66],\n",
       "       [46, 24, 45, 98, 43, 62,  1, 65, 11, 83],\n",
       "       [19, 93, 18,  0, 71, 90, 54,  6, 23, 19],\n",
       "       [21, 72, 56, 18, 19, 65, 24, 97, 11,  9],\n",
       "       [87, 82, 65, 42, 76, 82,  7, 21, 57, 92],\n",
       "       [57, 96, 18, 56, 62, 27, 78, 12,  4, 86],\n",
       "       [26, 53, 71, 73, 96, 60, 71, 46, 88, 91]])"
      ]
     },
     "execution_count": 126,
     "metadata": {},
     "output_type": "execute_result"
    }
   ],
   "source": [
    "arr2[::-1]"
   ]
  },
  {
   "cell_type": "code",
   "execution_count": 131,
   "id": "530856e7-31dd-4fd2-a07f-588f674a2c84",
   "metadata": {},
   "outputs": [
    {
     "data": {
      "text/plain": [
       "array([[25, 18, 19, 50, 82, 82, 86, 21, 25,  3],\n",
       "       [25, 63, 76, 95, 58, 67, 88, 46, 62, 44],\n",
       "       [46, 24, 45, 98, 43, 62,  1, 65, 11, 83],\n",
       "       [21, 72, 56, 18, 19, 65, 24, 97, 11,  9],\n",
       "       [57, 96, 18, 56, 62, 27, 78, 12,  4, 86]])"
      ]
     },
     "execution_count": 131,
     "metadata": {},
     "output_type": "execute_result"
    }
   ],
   "source": [
    "arr2[::-2]"
   ]
  },
  {
   "cell_type": "code",
   "execution_count": 129,
   "id": "297f151f-16f7-45bf-a8e0-9089322127ef",
   "metadata": {},
   "outputs": [
    {
     "data": {
      "text/plain": [
       "array([0, 1, 2, 3, 4, 5])"
      ]
     },
     "execution_count": 129,
     "metadata": {},
     "output_type": "execute_result"
    }
   ],
   "source": [
    "arr"
   ]
  },
  {
   "cell_type": "code",
   "execution_count": 128,
   "id": "ef7ef07e-a513-4890-8517-d64c8efce840",
   "metadata": {},
   "outputs": [
    {
     "data": {
      "text/plain": [
       "array([5, 3, 1])"
      ]
     },
     "execution_count": 128,
     "metadata": {},
     "output_type": "execute_result"
    }
   ],
   "source": [
    "arr[::-2]"
   ]
  },
  {
   "cell_type": "code",
   "execution_count": 137,
   "id": "7b5a4026-dae9-4486-ae2a-836614216d46",
   "metadata": {},
   "outputs": [
    {
     "data": {
      "text/plain": [
       "array([[26, 53, 71, 73, 96, 60, 71, 46, 88, 91],\n",
       "       [57, 96, 18, 56, 62, 27, 78, 12,  4, 86],\n",
       "       [87, 82, 65, 42, 76, 82,  7, 21, 57, 92],\n",
       "       [21, 72, 56, 18, 19, 65, 24, 97, 11,  9],\n",
       "       [19, 93, 18,  0, 71, 90, 54,  6, 23, 19],\n",
       "       [46, 24, 45, 98, 43, 62,  1, 65, 11, 83],\n",
       "       [91, 98,  6, 10, 50, 54, 37,  3, 78, 66],\n",
       "       [25, 63, 76, 95, 58, 67, 88, 46, 62, 44],\n",
       "       [18, 12, 97, 34, 37, 93, 14, 51, 21, 61],\n",
       "       [25, 18, 19, 50, 82, 82, 86, 21, 25,  3]])"
      ]
     },
     "execution_count": 137,
     "metadata": {},
     "output_type": "execute_result"
    }
   ],
   "source": [
    "arr2"
   ]
  },
  {
   "cell_type": "code",
   "execution_count": 135,
   "id": "04b98506-60cc-4c51-9d52-5babb8518b3e",
   "metadata": {},
   "outputs": [
    {
     "data": {
      "text/plain": [
       "array([[25, 18, 19, 50, 82, 82, 86, 21, 25,  3],\n",
       "       [91, 98,  6, 10, 50, 54, 37,  3, 78, 66],\n",
       "       [21, 72, 56, 18, 19, 65, 24, 97, 11,  9],\n",
       "       [26, 53, 71, 73, 96, 60, 71, 46, 88, 91]])"
      ]
     },
     "execution_count": 135,
     "metadata": {},
     "output_type": "execute_result"
    }
   ],
   "source": [
    "arr2[::-3]"
   ]
  },
  {
   "cell_type": "code",
   "execution_count": 138,
   "id": "d5ac4c82-6517-43f0-9e65-13fac28c3924",
   "metadata": {},
   "outputs": [
    {
     "data": {
      "text/plain": [
       "array([[26, 53, 71, 73, 96, 60, 71, 46, 88, 91],\n",
       "       [21, 72, 56, 18, 19, 65, 24, 97, 11,  9],\n",
       "       [91, 98,  6, 10, 50, 54, 37,  3, 78, 66],\n",
       "       [25, 18, 19, 50, 82, 82, 86, 21, 25,  3]])"
      ]
     },
     "execution_count": 138,
     "metadata": {},
     "output_type": "execute_result"
    }
   ],
   "source": [
    "arr2[0:10:3]"
   ]
  },
  {
   "cell_type": "code",
   "execution_count": 136,
   "id": "75c70b5c-8e8b-4b64-85e7-3dbc481d79a7",
   "metadata": {},
   "outputs": [
    {
     "data": {
      "text/plain": [
       "array([[26, 53, 71, 73, 96, 60, 71, 46, 88, 91],\n",
       "       [57, 96, 18, 56, 62, 27, 78, 12,  4, 86],\n",
       "       [87, 82, 65, 42, 76, 82,  7, 21, 57, 92],\n",
       "       [21, 72, 56, 18, 19, 65, 24, 97, 11,  9],\n",
       "       [19, 93, 18,  0, 71, 90, 54,  6, 23, 19],\n",
       "       [46, 24, 45, 98, 43, 62,  1, 65, 11, 83],\n",
       "       [91, 98,  6, 10, 50, 54, 37,  3, 78, 66]])"
      ]
     },
     "execution_count": 136,
     "metadata": {},
     "output_type": "execute_result"
    }
   ],
   "source": [
    "arr2[:-3]"
   ]
  },
  {
   "cell_type": "code",
   "execution_count": 139,
   "id": "ddec0d74-4bf1-40fa-a6a1-11ec9d6a52f2",
   "metadata": {},
   "outputs": [
    {
     "data": {
      "text/plain": [
       "array([0, 1, 2, 3, 4, 5])"
      ]
     },
     "execution_count": 139,
     "metadata": {},
     "output_type": "execute_result"
    }
   ],
   "source": [
    "arr"
   ]
  },
  {
   "cell_type": "code",
   "execution_count": 140,
   "id": "3ad0ee92-ce4e-43f8-8934-77c46e734db7",
   "metadata": {},
   "outputs": [
    {
     "data": {
      "text/plain": [
       "5"
      ]
     },
     "execution_count": 140,
     "metadata": {},
     "output_type": "execute_result"
    }
   ],
   "source": [
    "arr.max()"
   ]
  },
  {
   "cell_type": "code",
   "execution_count": 141,
   "id": "3d68a938-b464-43a7-b9cd-cce2cb2af881",
   "metadata": {},
   "outputs": [
    {
     "data": {
      "text/plain": [
       "0"
      ]
     },
     "execution_count": 141,
     "metadata": {},
     "output_type": "execute_result"
    }
   ],
   "source": [
    "arr.min()"
   ]
  },
  {
   "cell_type": "code",
   "execution_count": 142,
   "id": "97e6e6b0-94ae-45dd-b047-65bb51799fbb",
   "metadata": {},
   "outputs": [
    {
     "data": {
      "text/plain": [
       "2.5"
      ]
     },
     "execution_count": 142,
     "metadata": {},
     "output_type": "execute_result"
    }
   ],
   "source": [
    "arr.mean()"
   ]
  },
  {
   "cell_type": "code",
   "execution_count": 143,
   "id": "f2c2edc8-2018-4188-a4b5-6b5f3d98f039",
   "metadata": {},
   "outputs": [
    {
     "ename": "AttributeError",
     "evalue": "'numpy.ndarray' object has no attribute 'median'",
     "output_type": "error",
     "traceback": [
      "\u001b[1;31m---------------------------------------------------------------------------\u001b[0m",
      "\u001b[1;31mAttributeError\u001b[0m                            Traceback (most recent call last)",
      "Cell \u001b[1;32mIn[143], line 1\u001b[0m\n\u001b[1;32m----> 1\u001b[0m arr\u001b[38;5;241m.\u001b[39mmedian()\n",
      "\u001b[1;31mAttributeError\u001b[0m: 'numpy.ndarray' object has no attribute 'median'"
     ]
    }
   ],
   "source": [
    "arr.median()"
   ]
  },
  {
   "cell_type": "code",
   "execution_count": 144,
   "id": "affecdf2-6fd3-4246-b028-757860392f5a",
   "metadata": {},
   "outputs": [
    {
     "ename": "AttributeError",
     "evalue": "'numpy.ndarray' object has no attribute 'median'",
     "output_type": "error",
     "traceback": [
      "\u001b[1;31m---------------------------------------------------------------------------\u001b[0m",
      "\u001b[1;31mAttributeError\u001b[0m                            Traceback (most recent call last)",
      "Cell \u001b[1;32mIn[144], line 3\u001b[0m\n\u001b[0;32m      1\u001b[0m \u001b[38;5;28;01mfrom\u001b[39;00m \u001b[38;5;21;01mnumpy\u001b[39;00m \u001b[38;5;28;01mimport\u001b[39;00m \u001b[38;5;241m*\u001b[39m \n\u001b[0;32m      2\u001b[0m a\u001b[38;5;241m=\u001b[39marray([\u001b[38;5;241m1\u001b[39m,\u001b[38;5;241m2\u001b[39m,\u001b[38;5;241m3\u001b[39m,\u001b[38;5;241m4\u001b[39m,\u001b[38;5;241m5\u001b[39m])\n\u001b[1;32m----> 3\u001b[0m a\u001b[38;5;241m.\u001b[39mmedian()\n",
      "\u001b[1;31mAttributeError\u001b[0m: 'numpy.ndarray' object has no attribute 'median'"
     ]
    }
   ],
   "source": [
    "from numpy import * \n",
    "a=array([1,2,3,4,5])\n",
    "a.median()"
   ]
  },
  {
   "cell_type": "code",
   "execution_count": 147,
   "id": "7d98523b-530a-46e7-b9ec-6e01ec34150b",
   "metadata": {},
   "outputs": [
    {
     "data": {
      "text/plain": [
       "3.0"
      ]
     },
     "execution_count": 147,
     "metadata": {},
     "output_type": "execute_result"
    }
   ],
   "source": [
    "from numpy import *  # * includes - 256 funcs. called internally\n",
    "a=array([1,2,3,4,5])\n",
    "median(a)"
   ]
  },
  {
   "cell_type": "markdown",
   "id": "e9595f81-7f57-4e15-b20d-74b56d6641a0",
   "metadata": {},
   "source": [
    "# ✅ Correct way to find mean without *\n",
    "\n",
    "⚠️ Why not use { from numpy import * } ?\n",
    "It imports everything into global space, which can cause conflicts and is not recommended.\n",
    "\n",
    "Using np.mean() or np.median(a) is clearer and safer."
   ]
  },
  {
   "cell_type": "markdown",
   "id": "93b05683-1219-4188-bdcc-bd7874465b4f",
   "metadata": {},
   "source": [
    "# mean = sum(data) / len(data)\n",
    "-----------------------------------"
   ]
  },
  {
   "cell_type": "code",
   "execution_count": 153,
   "id": "662dc75b-afef-44fd-bc23-9c13f9447eb5",
   "metadata": {},
   "outputs": [
    {
     "name": "stdout",
     "output_type": "stream",
     "text": [
      "4.8\n"
     ]
    }
   ],
   "source": [
    "import numpy as np\n",
    "a = np.array([5,3,6,8,2])\n",
    "print(np.mean(a))"
   ]
  },
  {
   "cell_type": "markdown",
   "id": "f26765f0-4769-4088-b45d-d9da4e4fd245",
   "metadata": {},
   "source": [
    "# 📊 Median - middle value of a dataset when it is ordered from smallest to largest.\n",
    "\n",
    "\n",
    "⭐ Always sort the data first before applying the formula.\n",
    "\n",
    "👉 For Odd number of elements:\n",
    "If the total number of elements (n) is odd,\n",
    "\n",
    "Median = value at position (n + 1) / 2\n",
    "\n",
    "\n",
    "----->📌 Example:\n",
    " \n",
    "        Data: 3, 5, 7\n",
    "        n = 3 (odd)\n",
    "        Median = element at (3+1)/2 = 2nd position = **5**\n",
    "\n",
    "👉 For Even number of elements:\n",
    "If the total number of elements (n) is even,\n",
    "\n",
    "Median = average of the values at positions n/2 and (n/2) + 1\n",
    "\n",
    "-----> 📌 Example:\n",
    "\n",
    "        Data: 2, 4, 6, 8\n",
    "        n = 4 (even)\n",
    "        Median = (4 + 6) / 2 = **5**"
   ]
  },
  {
   "cell_type": "code",
   "execution_count": 157,
   "id": "846ec466-8317-484d-a9ad-5588c8efe343",
   "metadata": {},
   "outputs": [
    {
     "name": "stdout",
     "output_type": "stream",
     "text": [
      "5.0\n"
     ]
    }
   ],
   "source": [
    "import numpy as np\n",
    "a = np.array([2, 4, 6, 8])\n",
    "print(np.median(a))"
   ]
  },
  {
   "cell_type": "markdown",
   "id": "d84599d5-6faa-4f35-a623-533a7438faa6",
   "metadata": {},
   "source": [
    "# \n",
    "-----------------------------------------------------------------------------"
   ]
  },
  {
   "cell_type": "code",
   "execution_count": 158,
   "id": "1565e18b-3fd7-4dff-a3ca-a2ed2bc1d336",
   "metadata": {},
   "outputs": [
    {
     "data": {
      "text/plain": [
       "array([0, 1, 2, 3, 4, 5])"
      ]
     },
     "execution_count": 158,
     "metadata": {},
     "output_type": "execute_result"
    }
   ],
   "source": [
    "arr"
   ]
  },
  {
   "cell_type": "code",
   "execution_count": 159,
   "id": "3a9d6b10-1e5e-47c6-8e80-ff2ef1719909",
   "metadata": {},
   "outputs": [
    {
     "data": {
      "text/plain": [
       "array([[0, 1],\n",
       "       [2, 3],\n",
       "       [4, 5]])"
      ]
     },
     "execution_count": 159,
     "metadata": {},
     "output_type": "execute_result"
    }
   ],
   "source": [
    "arr.reshape(3,2)"
   ]
  },
  {
   "cell_type": "code",
   "execution_count": 160,
   "id": "f3d657c4-45a5-4b4b-a86b-6f4118344476",
   "metadata": {},
   "outputs": [
    {
     "data": {
      "text/plain": [
       "array([[0],\n",
       "       [1],\n",
       "       [2],\n",
       "       [3],\n",
       "       [4],\n",
       "       [5]])"
      ]
     },
     "execution_count": 160,
     "metadata": {},
     "output_type": "execute_result"
    }
   ],
   "source": [
    "arr.reshape(6,1)"
   ]
  },
  {
   "cell_type": "code",
   "execution_count": 161,
   "id": "f45c3e13-5c9c-43c7-898d-294d16ae6fbf",
   "metadata": {},
   "outputs": [
    {
     "data": {
      "text/plain": [
       "array([[0, 1, 2, 3, 4, 5]])"
      ]
     },
     "execution_count": 161,
     "metadata": {},
     "output_type": "execute_result"
    }
   ],
   "source": [
    "arr.reshape(1,6)"
   ]
  },
  {
   "cell_type": "code",
   "execution_count": 162,
   "id": "de59eb54-b0c0-4962-9eaa-454084e29bcd",
   "metadata": {},
   "outputs": [
    {
     "ename": "ValueError",
     "evalue": "cannot reshape array of size 6 into shape (2,4)",
     "output_type": "error",
     "traceback": [
      "\u001b[1;31m---------------------------------------------------------------------------\u001b[0m",
      "\u001b[1;31mValueError\u001b[0m                                Traceback (most recent call last)",
      "Cell \u001b[1;32mIn[162], line 1\u001b[0m\n\u001b[1;32m----> 1\u001b[0m arr\u001b[38;5;241m.\u001b[39mreshape(\u001b[38;5;241m2\u001b[39m,\u001b[38;5;241m4\u001b[39m)\n",
      "\u001b[1;31mValueError\u001b[0m: cannot reshape array of size 6 into shape (2,4)"
     ]
    }
   ],
   "source": [
    "arr.reshape(2,4)"
   ]
  },
  {
   "cell_type": "code",
   "execution_count": 165,
   "id": "c3df1015-970e-4e17-b7ad-dd7732f74969",
   "metadata": {},
   "outputs": [
    {
     "data": {
      "text/plain": [
       "array([0, 1, 2, 3, 4, 5])"
      ]
     },
     "execution_count": 165,
     "metadata": {},
     "output_type": "execute_result"
    }
   ],
   "source": [
    "arr"
   ]
  },
  {
   "cell_type": "markdown",
   "id": "73bf084d-6980-4634-a45d-667152a0eec1",
   "metadata": {},
   "source": [
    "# ⭐ order\n",
    "-----------------------------------------------------------------------------\n"
   ]
  },
  {
   "cell_type": "raw",
   "id": "44defbdb-4759-4762-a19f-168ead4092da",
   "metadata": {},
   "source": [
    "The order parameter in reshape controls how data is read and placed into the new shape — row-wise or column-wise.\n",
    "\n",
    "- default c\n",
    "\n",
    "===>   'C' means the data is filled row by row (like how C language stores arrays)\n",
    "===>   'F' it would fill column by column (Fortran-style).\n",
    "===>   'A' when you're not sure if the data is row-major or column-major, and want to preserve the layout."
   ]
  },
  {
   "cell_type": "code",
   "execution_count": 173,
   "id": "6b06d68b-6bda-4945-9de3-2ed28c8fa7db",
   "metadata": {},
   "outputs": [
    {
     "data": {
      "text/plain": [
       "array([[0, 1],\n",
       "       [2, 3],\n",
       "       [4, 5]])"
      ]
     },
     "execution_count": 173,
     "metadata": {},
     "output_type": "execute_result"
    }
   ],
   "source": [
    "arr.reshape(3,2,order='C')  # used to show data in diff"
   ]
  },
  {
   "cell_type": "code",
   "execution_count": 174,
   "id": "83ebbf57-535a-4914-8981-933ffec04ecd",
   "metadata": {},
   "outputs": [
    {
     "data": {
      "text/plain": [
       "array([[0, 3],\n",
       "       [1, 4],\n",
       "       [2, 5]])"
      ]
     },
     "execution_count": 174,
     "metadata": {},
     "output_type": "execute_result"
    }
   ],
   "source": [
    "arr.reshape(3,2,order='F')"
   ]
  },
  {
   "cell_type": "code",
   "execution_count": 168,
   "id": "9d4245f3-daf9-4ce2-a08d-a1e7e32a0acb",
   "metadata": {},
   "outputs": [
    {
     "data": {
      "text/plain": [
       "array([[0, 1],\n",
       "       [2, 3],\n",
       "       [4, 5]])"
      ]
     },
     "execution_count": 168,
     "metadata": {},
     "output_type": "execute_result"
    }
   ],
   "source": [
    "arr.reshape(3,2,order='A')  # similar to c type"
   ]
  },
  {
   "cell_type": "markdown",
   "id": "4e238e6b-129c-4add-8079-ba0bf43028e9",
   "metadata": {},
   "source": [
    "# ⭐ Indexing\n",
    "---------------------------------------------"
   ]
  },
  {
   "cell_type": "code",
   "execution_count": 171,
   "id": "10b7dc52-13dc-43a8-bb10-c9a2d86cb992",
   "metadata": {},
   "outputs": [],
   "source": [
    "mat=np.arange(0,100).reshape(10,10)"
   ]
  },
  {
   "cell_type": "code",
   "execution_count": 172,
   "id": "daef7446-48a3-4d53-a4f9-afb32d8644de",
   "metadata": {},
   "outputs": [
    {
     "data": {
      "text/plain": [
       "array([[ 0,  1,  2,  3,  4,  5,  6,  7,  8,  9],\n",
       "       [10, 11, 12, 13, 14, 15, 16, 17, 18, 19],\n",
       "       [20, 21, 22, 23, 24, 25, 26, 27, 28, 29],\n",
       "       [30, 31, 32, 33, 34, 35, 36, 37, 38, 39],\n",
       "       [40, 41, 42, 43, 44, 45, 46, 47, 48, 49],\n",
       "       [50, 51, 52, 53, 54, 55, 56, 57, 58, 59],\n",
       "       [60, 61, 62, 63, 64, 65, 66, 67, 68, 69],\n",
       "       [70, 71, 72, 73, 74, 75, 76, 77, 78, 79],\n",
       "       [80, 81, 82, 83, 84, 85, 86, 87, 88, 89],\n",
       "       [90, 91, 92, 93, 94, 95, 96, 97, 98, 99]])"
      ]
     },
     "execution_count": 172,
     "metadata": {},
     "output_type": "execute_result"
    }
   ],
   "source": [
    "mat"
   ]
  },
  {
   "cell_type": "code",
   "execution_count": 176,
   "id": "a5b3a61c-2cb0-4201-bcc9-5cefaa183e5d",
   "metadata": {},
   "outputs": [],
   "source": [
    "row,col=4,5"
   ]
  },
  {
   "cell_type": "code",
   "execution_count": 180,
   "id": "c3db7060-82ad-4d63-b136-edec685f0470",
   "metadata": {},
   "outputs": [
    {
     "data": {
      "text/plain": [
       "45"
      ]
     },
     "execution_count": 180,
     "metadata": {},
     "output_type": "execute_result"
    }
   ],
   "source": [
    "mat[row,col]  # array can understand by values and variables as well"
   ]
  },
  {
   "cell_type": "code",
   "execution_count": 181,
   "id": "743c83c1-e4ce-416d-8365-70699c359758",
   "metadata": {},
   "outputs": [],
   "source": [
    "col=6"
   ]
  },
  {
   "cell_type": "code",
   "execution_count": 183,
   "id": "98fa511f-0c45-4482-9720-bb813cb24ed2",
   "metadata": {},
   "outputs": [
    {
     "data": {
      "text/plain": [
       "array([50, 51, 52, 53, 54, 55, 56, 57, 58, 59])"
      ]
     },
     "execution_count": 183,
     "metadata": {},
     "output_type": "execute_result"
    }
   ],
   "source": [
    "mat[5]"
   ]
  },
  {
   "cell_type": "code",
   "execution_count": 185,
   "id": "6b05af43-e224-420b-bb92-2e5bd8a3a28e",
   "metadata": {},
   "outputs": [
    {
     "data": {
      "text/plain": [
       "array([[ 0,  1,  2,  3,  4,  5,  6,  7,  8,  9],\n",
       "       [10, 11, 12, 13, 14, 15, 16, 17, 18, 19],\n",
       "       [20, 21, 22, 23, 24, 25, 26, 27, 28, 29],\n",
       "       [30, 31, 32, 33, 34, 35, 36, 37, 38, 39],\n",
       "       [40, 41, 42, 43, 44, 45, 46, 47, 48, 49],\n",
       "       [50, 51, 52, 53, 54, 55, 56, 57, 58, 59],\n",
       "       [60, 61, 62, 63, 64, 65, 66, 67, 68, 69],\n",
       "       [70, 71, 72, 73, 74, 75, 76, 77, 78, 79],\n",
       "       [80, 81, 82, 83, 84, 85, 86, 87, 88, 89],\n",
       "       [90, 91, 92, 93, 94, 95, 96, 97, 98, 99]])"
      ]
     },
     "execution_count": 185,
     "metadata": {},
     "output_type": "execute_result"
    }
   ],
   "source": [
    "mat"
   ]
  },
  {
   "cell_type": "markdown",
   "id": "55a9c920-5c6f-40be-9471-512f9503e1e6",
   "metadata": {},
   "source": [
    "# print a col from matrix"
   ]
  },
  {
   "cell_type": "code",
   "execution_count": 186,
   "id": "fd5acb4a-bf1c-403a-9190-e00f74f7ca48",
   "metadata": {},
   "outputs": [
    {
     "data": {
      "text/plain": [
       "array([ 5, 15, 25, 35, 45, 55, 65, 75, 85, 95])"
      ]
     },
     "execution_count": 186,
     "metadata": {},
     "output_type": "execute_result"
    }
   ],
   "source": [
    "mat[:,5]"
   ]
  },
  {
   "cell_type": "code",
   "execution_count": 187,
   "id": "32cbd1f5-6680-4d0f-84b9-a52247a2c5a1",
   "metadata": {},
   "outputs": [
    {
     "data": {
      "text/plain": [
       "array([ 6, 16, 26, 36, 46, 56, 66, 76, 86, 96])"
      ]
     },
     "execution_count": 187,
     "metadata": {},
     "output_type": "execute_result"
    }
   ],
   "source": [
    "mat[:,col]"
   ]
  },
  {
   "cell_type": "code",
   "execution_count": 188,
   "id": "f51ab3f0-b940-4119-905a-ff1f8b3289eb",
   "metadata": {},
   "outputs": [
    {
     "data": {
      "text/plain": [
       "array([ 9, 19, 29, 39, 49, 59, 69, 79, 89, 99])"
      ]
     },
     "execution_count": 188,
     "metadata": {},
     "output_type": "execute_result"
    }
   ],
   "source": [
    "mat[:,-1]"
   ]
  },
  {
   "cell_type": "code",
   "execution_count": 190,
   "id": "4e45646a-1627-46a3-b28a-4d369c4e3b4d",
   "metadata": {},
   "outputs": [
    {
     "data": {
      "text/plain": [
       "array([[ 3,  4],\n",
       "       [13, 14],\n",
       "       [23, 24],\n",
       "       [33, 34],\n",
       "       [43, 44],\n",
       "       [53, 54],\n",
       "       [63, 64],\n",
       "       [73, 74],\n",
       "       [83, 84],\n",
       "       [93, 94]])"
      ]
     },
     "execution_count": 190,
     "metadata": {},
     "output_type": "execute_result"
    }
   ],
   "source": [
    "mat[:,3:5]   # to print set of col only"
   ]
  },
  {
   "cell_type": "code",
   "execution_count": 192,
   "id": "bf1c2e4c-7ae7-4abf-b71b-37a6ae0f4668",
   "metadata": {},
   "outputs": [
    {
     "data": {
      "text/plain": [
       "array([[22, 23],\n",
       "       [32, 33],\n",
       "       [42, 43],\n",
       "       [52, 53]])"
      ]
     },
     "execution_count": 192,
     "metadata": {},
     "output_type": "execute_result"
    }
   ],
   "source": [
    "mat[2:6,2:4]  #to print certain rows and only few col from it"
   ]
  },
  {
   "cell_type": "code",
   "execution_count": 193,
   "id": "837b96c8-0ea7-4ed0-8c1a-2eba913863e1",
   "metadata": {},
   "outputs": [
    {
     "data": {
      "text/plain": [
       "array([[12, 13]])"
      ]
     },
     "execution_count": 193,
     "metadata": {},
     "output_type": "execute_result"
    }
   ],
   "source": [
    "mat[1:2,2:4]"
   ]
  },
  {
   "cell_type": "code",
   "execution_count": 194,
   "id": "9f8fd4ea-6f1c-4aa6-8da0-0dfc4fa1722e",
   "metadata": {},
   "outputs": [
    {
     "data": {
      "text/plain": [
       "array([[23, 24],\n",
       "       [33, 34]])"
      ]
     },
     "execution_count": 194,
     "metadata": {},
     "output_type": "execute_result"
    }
   ],
   "source": [
    "mat[2:4,3:5]"
   ]
  },
  {
   "cell_type": "markdown",
   "id": "d96af6d4-95d3-4c37-9228-edb2ee0caf6c",
   "metadata": {},
   "source": [
    "# ⭐⭐⭐  MASKING"
   ]
  },
  {
   "cell_type": "code",
   "execution_count": 195,
   "id": "035b60eb-aada-4812-a009-59d9e732fbd0",
   "metadata": {},
   "outputs": [
    {
     "data": {
      "text/plain": [
       "array([[ 0,  1,  2,  3,  4,  5,  6,  7,  8,  9],\n",
       "       [10, 11, 12, 13, 14, 15, 16, 17, 18, 19],\n",
       "       [20, 21, 22, 23, 24, 25, 26, 27, 28, 29],\n",
       "       [30, 31, 32, 33, 34, 35, 36, 37, 38, 39],\n",
       "       [40, 41, 42, 43, 44, 45, 46, 47, 48, 49],\n",
       "       [50, 51, 52, 53, 54, 55, 56, 57, 58, 59],\n",
       "       [60, 61, 62, 63, 64, 65, 66, 67, 68, 69],\n",
       "       [70, 71, 72, 73, 74, 75, 76, 77, 78, 79],\n",
       "       [80, 81, 82, 83, 84, 85, 86, 87, 88, 89],\n",
       "       [90, 91, 92, 93, 94, 95, 96, 97, 98, 99]])"
      ]
     },
     "execution_count": 195,
     "metadata": {},
     "output_type": "execute_result"
    }
   ],
   "source": [
    "mat # we aslo called as filter"
   ]
  },
  {
   "cell_type": "code",
   "execution_count": 196,
   "id": "28c5692e-e39b-4a3b-8d8e-6bf80aa2bcde",
   "metadata": {},
   "outputs": [
    {
     "data": {
      "text/plain": [
       "1880415058992"
      ]
     },
     "execution_count": 196,
     "metadata": {},
     "output_type": "execute_result"
    }
   ],
   "source": [
    "id(mat)"
   ]
  },
  {
   "cell_type": "code",
   "execution_count": 202,
   "id": "f7cc56f1-0fb1-46ef-ac52-c549acf7ebb4",
   "metadata": {},
   "outputs": [
    {
     "data": {
      "text/plain": [
       "array([[False, False, False, False, False, False, False, False, False,\n",
       "        False],\n",
       "       [False, False, False, False, False, False, False, False, False,\n",
       "        False],\n",
       "       [False, False, False, False, False, False, False, False, False,\n",
       "        False],\n",
       "       [False, False, False, False, False, False, False, False, False,\n",
       "        False],\n",
       "       [False, False, False, False, False, False, False, False, False,\n",
       "        False],\n",
       "       [False,  True,  True,  True,  True,  True,  True,  True,  True,\n",
       "         True],\n",
       "       [ True,  True,  True,  True,  True,  True,  True,  True,  True,\n",
       "         True],\n",
       "       [ True,  True,  True,  True,  True,  True,  True,  True,  True,\n",
       "         True],\n",
       "       [ True,  True,  True,  True,  True,  True,  True,  True,  True,\n",
       "         True],\n",
       "       [ True,  True,  True,  True,  True,  True,  True,  True,  True,\n",
       "         True]])"
      ]
     },
     "execution_count": 202,
     "metadata": {},
     "output_type": "execute_result"
    }
   ],
   "source": [
    "mat>50"
   ]
  },
  {
   "cell_type": "code",
   "execution_count": 201,
   "id": "5109c763-7783-4b8c-9fcb-052e5cefd14b",
   "metadata": {},
   "outputs": [
    {
     "data": {
      "text/plain": [
       "array([[50, 51, 52, 53, 54, 55, 56, 57, 58, 59],\n",
       "       [60, 61, 62, 63, 64, 65, 66, 67, 68, 69],\n",
       "       [70, 71, 72, 73, 74, 75, 76, 77, 78, 79],\n",
       "       [80, 81, 82, 83, 84, 85, 86, 87, 88, 89],\n",
       "       [90, 91, 92, 93, 94, 95, 96, 97, 98, 99]])"
      ]
     },
     "execution_count": 201,
     "metadata": {},
     "output_type": "execute_result"
    }
   ],
   "source": [
    "mat[mat>=50].reshape(5,10)"
   ]
  },
  {
   "cell_type": "code",
   "execution_count": 203,
   "id": "b2842382-7ec1-48f9-99fd-e6d2d0ad5818",
   "metadata": {},
   "outputs": [
    {
     "data": {
      "text/plain": [
       "array([[ 0,  1,  2,  3,  4,  5,  6,  7,  8,  9],\n",
       "       [10, 11, 12, 13, 14, 15, 16, 17, 18, 19],\n",
       "       [20, 21, 22, 23, 24, 25, 26, 27, 28, 29],\n",
       "       [30, 31, 32, 33, 34, 35, 36, 37, 38, 39],\n",
       "       [40, 41, 42, 43, 44, 45, 46, 47, 48, 49]])"
      ]
     },
     "execution_count": 203,
     "metadata": {},
     "output_type": "execute_result"
    }
   ],
   "source": [
    "mat[mat<50].reshape(5,10)"
   ]
  },
  {
   "cell_type": "code",
   "execution_count": 204,
   "id": "3e5961b9-ad52-4591-ac48-95b72b997d69",
   "metadata": {},
   "outputs": [
    {
     "data": {
      "text/plain": [
       "array([50])"
      ]
     },
     "execution_count": 204,
     "metadata": {},
     "output_type": "execute_result"
    }
   ],
   "source": [
    "mat[mat==50]"
   ]
  },
  {
   "cell_type": "code",
   "execution_count": 206,
   "id": "a23623ef-a2be-411b-81a4-093e5c2c5d46",
   "metadata": {},
   "outputs": [
    {
     "data": {
      "text/plain": [
       "array([ 0,  1,  2,  3,  4,  5,  6,  7,  8,  9, 10, 11, 12, 13, 14, 15, 16,\n",
       "       17, 18, 19, 20, 21, 22, 23, 24, 25, 26, 27, 28, 29, 30, 31, 32, 33,\n",
       "       34, 35, 36, 37, 38, 39, 40, 41, 42, 43, 44, 45, 46, 47, 48, 49, 51,\n",
       "       52, 53, 54, 55, 56, 57, 58, 59, 60, 61, 62, 63, 64, 65, 66, 67, 68,\n",
       "       69, 70, 71, 72, 73, 74, 75, 76, 77, 78, 79, 80, 81, 82, 83, 84, 85,\n",
       "       86, 87, 88, 89, 90, 91, 92, 93, 94, 95, 96, 97, 98, 99])"
      ]
     },
     "execution_count": 206,
     "metadata": {},
     "output_type": "execute_result"
    }
   ],
   "source": [
    "mat[mat!=50]"
   ]
  },
  {
   "cell_type": "raw",
   "id": "36c2aec9-dff8-43a1-9e81-3945bdeac4b4",
   "metadata": {},
   "source": [
    "Python program to generate otp"
   ]
  },
  {
   "cell_type": "code",
   "execution_count": 213,
   "id": "bfa8dea9-22ac-45f7-9fcd-faad96f15aa6",
   "metadata": {},
   "outputs": [
    {
     "name": "stdout",
     "output_type": "stream",
     "text": [
      "otp:5362\n"
     ]
    }
   ],
   "source": [
    "import random \n",
    "\n",
    "def gt(length):\n",
    "    digits='01234567'\n",
    "    otp=''.join(random.choice(digits) for _ in range(length))\n",
    "    return otp\n",
    "\n",
    "length=4\n",
    "otp=gt(length)\n",
    "print(f\"otp:{otp}\")\n"
   ]
  },
  {
   "cell_type": "code",
   "execution_count": null,
   "id": "616146a7-180d-44e7-a63d-04f4ee377daf",
   "metadata": {},
   "outputs": [],
   "source": []
  }
 ],
 "metadata": {
  "kernelspec": {
   "display_name": "Python 3 (ipykernel)",
   "language": "python",
   "name": "python3"
  },
  "language_info": {
   "codemirror_mode": {
    "name": "ipython",
    "version": 3
   },
   "file_extension": ".py",
   "mimetype": "text/x-python",
   "name": "python",
   "nbconvert_exporter": "python",
   "pygments_lexer": "ipython3",
   "version": "3.12.7"
  }
 },
 "nbformat": 4,
 "nbformat_minor": 5
}
